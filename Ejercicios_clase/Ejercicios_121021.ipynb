{
  "nbformat": 4,
  "nbformat_minor": 0,
  "metadata": {
    "colab": {
      "name": "Ejercicios_121021.ipynb",
      "provenance": [],
      "collapsed_sections": []
    },
    "kernelspec": {
      "name": "python3",
      "display_name": "Python 3"
    },
    "language_info": {
      "name": "python"
    }
  },
  "cells": [
    {
      "cell_type": "markdown",
      "metadata": {
        "id": "VtcUXC-f7kef"
      },
      "source": [
        "#Bases de datos\n",
        "Finales de los 70s, necesidad de almacenar y analizar secuencias.\n",
        "\n",
        "80s -> Amos Bairoch, basandose en Atlas de Dayhoft cambia el formato a computacional\n",
        "-> lanzamiento de **Swiss-Prot** (1986)\n",
        "\n",
        "##Swiss-Prot\n",
        "* resultados experimentales\n",
        "* necesidad de biocuradores\n",
        "* expansión de la base de datos\n",
        "\n",
        "90s escasez de financiamiento\n",
        "\n",
        "1998 -> creación del SIB\n",
        "\n",
        "## UniProt (2002)\n",
        "Consorcio:\n",
        "* Swiss-Prot (anotación manual)\n",
        "* TrEMBL (anotación automática)\n",
        "* PIR protein database\n",
        "\n",
        "*Mantenimiento y anotación constante\n",
        "\n",
        "### PDB vs UniProt\n",
        "\n",
        "PDB: repositorio de estructuras 3D\n",
        "\n",
        "UniProt: Base de datos de secuencias y anotación de proteínas\n",
        "\n",
        "## ExPASy (1993)\n",
        "Forma de interactuar con todas las bases de datos (160) más herramientas.\n",
        "Los recursos se alojan en diferentes grupos.\n",
        "\n",
        "###Prosite\n",
        "Base de datos de familias o dominios de proteínas\n",
        "\n",
        "ProRULE: genera distintas anotaciones en formato swiss-prot automaticamente"
      ]
    },
    {
      "cell_type": "code",
      "metadata": {
        "id": "Qj6HYESh6RS3"
      },
      "source": [
        "# Para UniProt\n",
        "SwissProt.read()\n",
        "SwissProt.parse)\n",
        "# ExPASy (obtiene archivo swiss prot)\n",
        "ExPASy.get_sprot_raw()"
      ],
      "execution_count": null,
      "outputs": []
    },
    {
      "cell_type": "code",
      "metadata": {
        "id": "4Mhl2MIBgjJn"
      },
      "source": [
        "from Bio import Entrez, SeqIO\n",
        "Entrez.email = \"mmayen@lcg.unam.mx\"\n",
        "\n",
        "#Busqueda del organismo y gen en la base de datos de proteínas\n",
        "handle = Entrez.esearch(db=\"protein\", term=\"Aedes aegypti[Orgn] AND APY[Gene]\") \n",
        "record = Entrez.read(handle) \n",
        "record[\"Count\"]\n",
        "\n",
        "# Extraer desde la base de datos de protein\n",
        "handle = Entrez.efetch(db=\"protein\", id=\"193806340\", rettype=\"gb\", retmode=\"text\")\n",
        "record = SeqIO.read(handle, \"genbank\")\n",
        "handle.close()\n",
        "record.id\n",
        "record.annotations['db_source']\n",
        "\n",
        "# Información en otras bases de datos como UniProt\n",
        "db_source = record.annotations['db_source']\n",
        "apy_prot = record.annotations['accessions']\n",
        "\n",
        "# O a partir de la base de datos de gene\n",
        "handle = Entrez.esearch(db=\"gene\", term=\"Aedes aegypti[Orgn] AND apy[Gene]\")\n",
        "record = Entrez.read(handle)   \n",
        "\n",
        "handle = Entrez.efetch(db=\"gene\", id=record['IdList'][0], retmode=\"xml\")\n",
        "record = Entrez.read(handle, \"genbank\")\n",
        "record[0]['Entrezgene_gene']['Gene-ref']['Gene-ref_syn']\n"
      ],
      "execution_count": null,
      "outputs": []
    },
    {
      "cell_type": "markdown",
      "metadata": {
        "id": "PzPsG5n2iRcs"
      },
      "source": [
        "## Ejercicio 1\n",
        "Buscar el accession de la base de datos de UniProtKB del gen DEFA del mosquito Aedes aegypti"
      ]
    },
    {
      "cell_type": "code",
      "metadata": {
        "id": "HhDqdN5SiL00"
      },
      "source": [
        "from Bio import Entrez, SeqIo\n",
        "Entrez.email = \"mmayen@lcg.unam.mx\"\n",
        "\n",
        "handle = Entrez.esearch(db=\"protein\", term=\"Aedes aegypti[Orgn] AND DEFA[Gene]\")\n",
        "record = Entrez.read(handle)\n",
        "\n",
        "record[\"count\"]\n",
        "print(record[\"IdList\"])\n",
        "\n",
        "handle = Entrez.efetch(db=\"protein\", id=record[\"IdList\"][0], rettype=\"gb\", retmode=\"text\")\n",
        "record = SeqIo.read(handle, \"genbank\")\n",
        "\n",
        "print(record.annotations[\"db_source\"])\n",
        "DEFA_prot = record.annotations[\"accessions\"]\n",
        "db_source = record.annotations[\"db_source\"]\n"
      ],
      "execution_count": null,
      "outputs": []
    },
    {
      "cell_type": "code",
      "metadata": {
        "id": "R95GLeanl7gA"
      },
      "source": [
        "from Bio import ExPASy \n",
        "from Bio import SwissProt\n",
        "\n",
        "# ExPASy.get_sprot_raw() permite obtener un archivo SwissProt crudo\n",
        "handle = ExPASy.get_sprot_raw(apy_prot[0])\n",
        "# SwissProt.read() o SwissProt.parse() permite leer un archivo SwissProt crudo y lo convierte en un objeto\n",
        "record = SwissProt.read(handle)\n",
        "record.__dict__.keys()"
      ],
      "execution_count": null,
      "outputs": []
    },
    {
      "cell_type": "markdown",
      "metadata": {
        "id": "WH-Jgo7Lmhqs"
      },
      "source": [
        "## Ejercicio 2\n",
        "Con el accession de la base de datos de UniProtKB del gen DEFA del mosquito Aedes aegypti , obtener el archivo de UniProt e imprimir:\n",
        "* Fecha de creación\n",
        "* Cuándo actualizaron su anotación\n",
        "* ID de taxonomía"
      ]
    },
    {
      "cell_type": "code",
      "metadata": {
        "id": "OsiNBKjSm3HO"
      },
      "source": [
        "handle = ExPASy.get_sprot_raw('P91793')\n",
        "record = SwissProt.read(handle)\n",
        "\n",
        "#Creación, actualización, Id taxonomía\n",
        "print(record.created)\n",
        "print(record.annotation_update)\n",
        "print(record.taxonomy_id)"
      ],
      "execution_count": null,
      "outputs": []
    },
    {
      "cell_type": "code",
      "metadata": {
        "id": "h29A7K-8oQh9"
      },
      "source": [
        "# Desde un archivo descargado con un solo record\n",
        "handle = open(\"./files/clase_4/O23729.txt\")\n",
        "record = SwissProt.read(handle)\n",
        "\n",
        "record.__dict__.keys()\n",
        "record.gene_name\n",
        "record.sequence\n",
        "\n",
        "# Multiples record\n",
        "handle = open(\"./files/clase_4/mini_uniprot.dat\")\n",
        "descriptions = [record.description for record in SwissProt.parse(handle)]\n",
        "len(descriptions)"
      ],
      "execution_count": null,
      "outputs": []
    },
    {
      "cell_type": "code",
      "metadata": {
        "id": "BbUFzijuolzs"
      },
      "source": [
        "### Crear objeto SeqRecord ###\n",
        "\n",
        "import Bio.SeqRecord, Bio.Seq\n",
        "\n",
        "seqRec = Bio.SeqRecord.SeqRecord(seq=Bio.Seq.Seq(record.sequence), id=record.entry_name, name=record.organism, description=record.description)\n",
        "pprint(seqRec.__dict__)\n",
        "\n",
        "# Podemos trabajar con un objeto SeqRecord\n",
        "seqRec.format('fasta')\n",
        "\n",
        "# Tambén pudemos utilizar Bio.SeqUtils\n",
        "from Bio.SeqUtils import seq3, seq1, molecular_weight\n",
        "prot = seqRec.seq\n",
        "# Convertir a código de 3 letras\n",
        "seq3(prot)[0:12]\n",
        "# Convertir a código de 1 letra\n",
        "seq1( seq3(prot)[0:12] )\n",
        "# Peso molecular\n",
        "molecular_weight(prot, seq_type='protein')\n"
      ],
      "execution_count": null,
      "outputs": []
    },
    {
      "cell_type": "markdown",
      "metadata": {
        "id": "DfngRe-1t6t4"
      },
      "source": [
        "## Ejercicio 3\n",
        "Con el archivo de UniProtKB del gen DEFA del mosquito Aedes aegypti, crear un objeto SeqRecord"
      ]
    },
    {
      "cell_type": "code",
      "metadata": {
        "id": "ZXcrATd6t9gj"
      },
      "source": [
        " import Bio.SeqRecord, Bio.Seq\n",
        "\n",
        " objeto_SeqRecord = Bio.SeqRecord.SeqRecord(seq=Bio.Seq.Seq(record.seq),id=record.entry_name,name=record.organism,description=record.description)\n",
        " \n",
        " for key, item in objeto_SeqRecord.__dict__.items():\n",
        "  print(key, item)\n",
        "\n",
        "print(objeto_SeqRecord.format('fasta'))\n"
      ],
      "execution_count": null,
      "outputs": []
    },
    {
      "cell_type": "markdown",
      "metadata": {
        "id": "ALXIxKr_8H61"
      },
      "source": [
        "## prosite\n",
        "¿Hay información de prosite en el archivo SwissProt?"
      ]
    },
    {
      "cell_type": "code",
      "metadata": {
        "id": "nES7fxBk7WPH"
      },
      "source": [
        "for reference in record.cross_references:\n",
        "    if 'PROSITE' in reference:\n",
        "        print(reference)"
      ],
      "execution_count": null,
      "outputs": []
    },
    {
      "cell_type": "code",
      "metadata": {
        "id": "htHJARKZ8cmb"
      },
      "source": [
        "# Usando prosite (read)\n",
        "from Bio import ExPASy\n",
        "from Bio.ExPASy import Prosite\n",
        "\n",
        "handle = ExPASy.get_prosite_raw(\"PS00785\")\n",
        "record = Prosite.read(handle)\n",
        "\n",
        "print(record.name)\n",
        "print(record.type)  #PATTERN/MATRIX/RULE\n",
        "print(record.pdoc)  #Documento asociado a ese patrón\n"
      ],
      "execution_count": null,
      "outputs": []
    },
    {
      "cell_type": "code",
      "metadata": {
        "id": "o_gyrq5_9ySg"
      },
      "source": [
        "# Usando prosite (prodoc)\n",
        "from Bio import ExPASy\n",
        "from Bio.ExPASy import Prodoc\n",
        "\n",
        "handle = ExPASy.get_prosite_raw(record.pdoc)\n",
        "record = Prodoc.read(handle)\n",
        "print(record.text)"
      ],
      "execution_count": null,
      "outputs": []
    },
    {
      "cell_type": "markdown",
      "metadata": {
        "id": "2FYJ4S20-3oq"
      },
      "source": [
        "### Scan prosite\n",
        "Permite escanear proteínas en busca de coincidencias con la colección de motivos PROSITE.\n",
        "\n",
        "Puede ser con una secuencia, un ID de PDB, un ID de UniProt, etc"
      ]
    },
    {
      "cell_type": "code",
      "metadata": {
        "id": "PX2lL5rY-2d6"
      },
      "source": [
        "#Buscar motivos ya anotados desde una secuencia\n",
        "sequence = \"MEHKEVVLLLLLFLKSGQGEPLDDYVNTQGASLFSVTKKQLGAGSIEECAAKCEEDEEFTCRAFQYHSKEQQCVIMAENRKSSIIIRMRDVVLFEKKVYLSECKTGNGKNYRGTMSKTKN\"\n",
        "\n",
        "from Bio.ExPASy import ScanProsite\n",
        "handle = ScanProsite.scan(seq=sequence)\n",
        "result = ScanProsite.read(handle)\n",
        "\n",
        "print(type(result))\n",
        "print(result[0])\n",
        "# 'Signature_ac'=\"PS50948\"\n",
        "\n",
        "\n",
        "from Bio import ExPASy\n",
        "from Bio.ExPASy import Prodoc\n",
        "\n",
        "handle = ExPASy.get_prosite_raw(\"PS50948\") \n",
        "record = Prosite.read(handle)\n",
        "print (record.name)\n",
        "\n",
        "handle = ExPASy.get_prosite_raw(record.pdoc)\n",
        "record = Prodoc.read(handle)"
      ],
      "execution_count": null,
      "outputs": []
    }
  ]
}