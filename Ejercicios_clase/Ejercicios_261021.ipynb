{
  "nbformat": 4,
  "nbformat_minor": 0,
  "metadata": {
    "colab": {
      "name": "Ejercicios_261021.ipynb",
      "provenance": [],
      "collapsed_sections": []
    },
    "kernelspec": {
      "name": "python3",
      "display_name": "Python 3"
    },
    "language_info": {
      "name": "python"
    }
  },
  "cells": [
    {
      "cell_type": "markdown",
      "metadata": {
        "id": "w9dQGXj6MJTe"
      },
      "source": [
        "#NumPy\n",
        "\n",
        "## Ejemplo datos scRNAseq\n",
        "Podemos leer nuestros datos con numpy con genfromtxt o loadtxt"
      ]
    },
    {
      "cell_type": "code",
      "metadata": {
        "id": "i4cg9coGicvN"
      },
      "source": [
        "import numpy as np\n",
        "\n",
        "count_matrix = np.genfromtxt(\"files/scrnaseq.csv\", dtype=\"int\", delimiter=\",\") \n",
        "cm2 =np.loadtxt(\"files/scrnaseq.csv\", delimiter=\",\", dtype = \"int\")"
      ],
      "execution_count": null,
      "outputs": []
    },
    {
      "cell_type": "code",
      "metadata": {
        "id": "rngbXc9PObF7"
      },
      "source": [
        "import numpy as np\n",
        "count_matrix = np.array([ [3, 3, 0],\n",
        "                          [0, 0, 1],\n",
        "                          [1, 1, 0],\n",
        "                          [0, 0, 1],\n",
        "                          [1, 0, 4],\n",
        "                          [1, 2, 0]])"
      ],
      "execution_count": 5,
      "outputs": []
    },
    {
      "cell_type": "code",
      "metadata": {
        "colab": {
          "base_uri": "https://localhost:8080/"
        },
        "id": "ZM_Ni-1fOvSQ",
        "outputId": "61efc1af-ca02-4f08-a57e-d6e6315695b9"
      },
      "source": [
        "### Matriz de coexpresión ###\n",
        "\n",
        "# cuando sea mayor a 0 será 1, si no será 0\n",
        "count_matrix = np.where(count_matrix > 0, 1, 0)\n",
        "count_matrix"
      ],
      "execution_count": 6,
      "outputs": [
        {
          "output_type": "execute_result",
          "data": {
            "text/plain": [
              "array([[1, 1, 0],\n",
              "       [0, 0, 1],\n",
              "       [1, 1, 0],\n",
              "       [0, 0, 1],\n",
              "       [1, 0, 1],\n",
              "       [1, 1, 0]])"
            ]
          },
          "metadata": {},
          "execution_count": 6
        }
      ]
    },
    {
      "cell_type": "code",
      "metadata": {
        "colab": {
          "base_uri": "https://localhost:8080/"
        },
        "id": "oj8qrmCVPDv9",
        "outputId": "cde76b4c-b665-4447-e5d2-f3d6d5cd5071"
      },
      "source": [
        "# Gen 1 vs Gen 1\n",
        "#producto punto de gen 1 contra gen 1\n",
        "print(np.dot(count_matrix.T[0], count_matrix.T[0]))\n",
        "\n",
        "#Resultado similar con operaciones booleanas\n",
        "print((count_matrix.T[0]) & (count_matrix.T[0]))\n",
        "print(sum((count_matrix.T[0]) & (count_matrix.T[0])))"
      ],
      "execution_count": 7,
      "outputs": [
        {
          "output_type": "stream",
          "name": "stdout",
          "text": [
            "4\n",
            "[1 0 1 0 1 1]\n",
            "4\n"
          ]
        }
      ]
    },
    {
      "cell_type": "code",
      "metadata": {
        "colab": {
          "base_uri": "https://localhost:8080/"
        },
        "id": "uTGNlzefPsNo",
        "outputId": "7f010fbf-049b-4a03-d9f1-a68700bcda28"
      },
      "source": [
        "#Gen 1 vs Gen 3\n",
        "#producto punto de gen 1 contra gen 3\n",
        "print(np.dot(count_matrix.T[0], count_matrix.T[2]))"
      ],
      "execution_count": 8,
      "outputs": [
        {
          "output_type": "stream",
          "name": "stdout",
          "text": [
            "1\n"
          ]
        }
      ]
    },
    {
      "cell_type": "code",
      "metadata": {
        "colab": {
          "base_uri": "https://localhost:8080/"
        },
        "id": "KX3RW_H1QvsX",
        "outputId": "ae078461-287c-4061-c310-23b0fd0ffdfb"
      },
      "source": [
        "### multiplicación de matríces ###\n",
        "#Con esta operación podemos crear una matriz de coexpresión\n",
        "\n",
        "#np.matmul(count_matrix.T, count_matrix)\n",
        "expresion = np.dot(count_matrix.T, count_matrix)\n",
        "print(expresion)\n",
        "\n",
        "#Ignorando la diagonal podemos saber las intersecciones de los datod"
      ],
      "execution_count": 9,
      "outputs": [
        {
          "output_type": "stream",
          "name": "stdout",
          "text": [
            "[[4 3 1]\n",
            " [3 3 0]\n",
            " [1 0 3]]\n"
          ]
        }
      ]
    },
    {
      "cell_type": "code",
      "metadata": {
        "colab": {
          "base_uri": "https://localhost:8080/",
          "height": 269
        },
        "id": "slonKhwQRcHX",
        "outputId": "5098dace-f6c3-4dff-9cb8-a642d8e87aff"
      },
      "source": [
        "#plot de matriz de coexpresión\n",
        "import matplotlib.pyplot as plt\n",
        "\n",
        "plt.imshow(expresion)\n",
        "plt.colorbar()\n",
        "plt.show()"
      ],
      "execution_count": 10,
      "outputs": [
        {
          "output_type": "display_data",
          "data": {
            "image/png": "[encoded data removed]",
            "text/plain": [
              "<Figure size 432x288 with 2 Axes>"
            ]
          },
          "metadata": {
            "needs_background": "light"
          }
        }
      ]
    },
    {
      "cell_type": "code",
      "metadata": {
        "colab": {
          "base_uri": "https://localhost:8080/",
          "height": 319
        },
        "id": "Nxm8sw0OSgfE",
        "outputId": "66d89533-646e-4979-80e8-477b849235d0"
      },
      "source": [
        "#visualizar en forma de grafos\n",
        "import networkx as nx\n",
        "G = nx.DiGraph(expresion)\n",
        "nx.draw(G, node_size=900, with_labels=True)\n",
        "plt.show()"
      ],
      "execution_count": 11,
      "outputs": [
        {
          "output_type": "display_data",
          "data": {
            "image/png": "[encoded data removed]",
            "text/plain": [
              "<Figure size 432x288 with 1 Axes>"
            ]
          },
          "metadata": {}
        }
      ]
    },
    {
      "cell_type": "markdown",
      "metadata": {
        "id": "wPdJAl4CTgGY"
      },
      "source": [
        "## Seeds\n",
        "¿Si trabajamos con valores aleatorios qué hacer si necesitamos obtener resultados reproducibles?"
      ]
    },
    {
      "cell_type": "code",
      "metadata": {
        "colab": {
          "base_uri": "https://localhost:8080/"
        },
        "id": "GL9-LMA6TOn_",
        "outputId": "6175c2fc-1e2b-4dc6-d2b6-809d35b85c18"
      },
      "source": [
        "# Usar un # seed nos permitirá obtener los mismos resultados\n",
        "import numpy as np\n",
        "# seed = 10\n",
        "np.random.seed(10)\n",
        "print(np.random.rand(1), np.random.rand(1), np.random.rand(1), np.random.rand(1))\n",
        "# De nuevo seed = 10\n",
        "np.random.seed(10) \n",
        "print(np.random.rand(1))"
      ],
      "execution_count": 12,
      "outputs": [
        {
          "output_type": "stream",
          "name": "stdout",
          "text": [
            "[0.77132064] [0.02075195] [0.63364823] [0.74880388]\n",
            "[0.77132064]\n"
          ]
        }
      ]
    },
    {
      "cell_type": "markdown",
      "metadata": {
        "id": "SbQmFj4pUF6S"
      },
      "source": [
        "## Ejercicio\n",
        "Análisis estadístico básico de búsqueda de secuencias de interés en un set dado:\n",
        "\n",
        "Crear función para obtener un set de secuencias de DNA aleatorias\n",
        "\n",
        "Buscar X patrón en dichas secuencias, obtener información(cantidad de veces encontrada, ¿posición?)\n",
        "\n",
        "Matriz de coexpresión (¿qué patrones coexisten en cada secuencia? ¿cuáles no?)"
      ]
    },
    {
      "cell_type": "code",
      "metadata": {
        "colab": {
          "base_uri": "https://localhost:8080/"
        },
        "id": "COvg35y1UJ8z",
        "outputId": "70cc9cd1-3503-49e9-b924-86ebdfe94257"
      },
      "source": [
        "#Secuencias aleatorias DNA\n",
        "#función usando NumPy y sin ciclos for\n",
        "\n",
        "from Bio.Seq import Seq\n",
        "import numpy as np\n",
        "\n",
        "def secuencia_aleatoria(tamano = 100, p = [0.5, 0.5, 0.5, 0.5],seed = None):\n",
        "    np.random.seed(seed) #posibilidad de reproducibilidad\n",
        "    DNA = list(\"ATGC\")\n",
        "    #secuencia random con distribucion p\n",
        "    secuencia = Seq(''.join(np.random.choice(DNA, tamano, p)))\n",
        "    return(secuencia)\n",
        "\n",
        "\n",
        "secuencia = secuencia_aleatoria(25, p=[0.1,0.2,0.4,0.3])\n",
        "secuencia"
      ],
      "execution_count": 13,
      "outputs": [
        {
          "output_type": "execute_result",
          "data": {
            "text/plain": [
              "Seq('AGTCCACTGGCCCCATAGATAACTC')"
            ]
          },
          "metadata": {},
          "execution_count": 13
        }
      ]
    },
    {
      "cell_type": "code",
      "metadata": {
        "id": "ycFwqwStUjr-"
      },
      "source": [
        "#función para escribir archivo de secuencias\n",
        "def seq_aleatorias(tamano = 100, p = [0.5, 0.5, 0.5, 0.5], seed = None,\n",
        "                   num_seq = 20, archivo = \"SeqAleat.fasta\"):\n",
        "    \n",
        "    with open(archivo, 'w') as file:\n",
        "        for i in range(num_seq):\n",
        "            sec = secuencia_aleatoria(tamano, p, seed)\n",
        "            file.write(\">Seq\" + str(i) + \"\\n\")\n",
        "            file.write(str(sec))\n",
        "            file.write(\"\\n\")\n",
        "    file.close()"
      ],
      "execution_count": 14,
      "outputs": []
    },
    {
      "cell_type": "code",
      "metadata": {
        "id": "x_ih6wT-VVrS"
      },
      "source": [
        "#función para búsqueda de patrones\n",
        "from Bio import SeqIO, SeqUtils\n",
        "import csv\n",
        "import re\n",
        "\n",
        "def busqueda_patron():\n",
        "  # TFs a buscar\n",
        "  tf_interes_mod = { \"TF_1\": 'ATG[GG|TAG]', \"TF_2\" : 'T[TC|AA]GAAT', \n",
        "                  \"TF_3\" : \"GTATGCGGGG\", \"TF_4\" : \"TAT[GT]CC\",\n",
        "                  \"TF_5\" : \"TATATA[GT|TG]\" }\n",
        "  outfile = open(\"ejercicioNP.csv\", \"w\")\n",
        "  writer = csv.writer(outfile)\n",
        "  for rec in SeqIO.parse(\"SeqAleat.fasta\", \"fasta\"):\n",
        "      #secuencia por analizar\n",
        "      seq = rec.seq\n",
        "      #array para guardar numero de coindicencias\n",
        "      tf_counts = np.empty((0), dtype = \"int\")\n",
        "      for tf in tf_interes_mod.values():\n",
        "        #findall también sirve para exp. regulares\n",
        "        counts = len( re.findall(tf, str( seq ) ) )  \n",
        "        tf_counts = np.append(tf_counts, [counts]) \n",
        "    # escribir counts encontrados (iterable)\n",
        "      writer.writerows( [tf_counts] )\n",
        "  outfile.close()"
      ],
      "execution_count": 15,
      "outputs": []
    },
    {
      "cell_type": "code",
      "metadata": {
        "id": "IYD9tknbWLGl"
      },
      "source": [
        "### Generar fasta con 10 secuencias distrib. p\n",
        "seq_aleatorias(p= [0.4, 0.2, 0.3, 0.1])\n"
      ],
      "execution_count": 16,
      "outputs": []
    },
    {
      "cell_type": "code",
      "metadata": {
        "id": "WeQJvDYpWoI-"
      },
      "source": [
        "### Búsqueda de patrónes ###\n",
        "busqueda_patron()"
      ],
      "execution_count": 17,
      "outputs": []
    },
    {
      "cell_type": "code",
      "metadata": {
        "colab": {
          "base_uri": "https://localhost:8080/"
        },
        "id": "R_TNhPRCWvGj",
        "outputId": "33a1a7f5-80ed-4017-c55e-18332a78c2d6"
      },
      "source": [
        "### Matríz de cuentas ###\n",
        "count_matrix = np.loadtxt(\"/content/ejercicioNP.csv\", delimiter=\",\", dtype=\"int\")\n",
        "print(count_matrix)"
      ],
      "execution_count": 18,
      "outputs": [
        {
          "output_type": "stream",
          "name": "stdout",
          "text": [
            "[[0 0 0 0 0]\n",
            " [0 0 0 0 0]\n",
            " [2 0 0 0 0]\n",
            " [1 0 0 0 0]\n",
            " [1 0 0 0 0]\n",
            " [1 0 0 0 0]\n",
            " [3 0 0 0 0]\n",
            " [1 0 0 1 0]\n",
            " [1 0 0 0 0]\n",
            " [1 0 0 1 0]\n",
            " [0 0 0 0 0]\n",
            " [1 0 0 0 0]\n",
            " [1 0 0 0 0]\n",
            " [0 0 0 0 0]\n",
            " [1 0 0 0 0]\n",
            " [1 1 0 0 0]\n",
            " [1 0 0 0 0]\n",
            " [4 0 0 0 0]\n",
            " [2 0 0 0 0]\n",
            " [2 0 0 0 0]]\n"
          ]
        }
      ]
    },
    {
      "cell_type": "code",
      "metadata": {
        "colab": {
          "base_uri": "https://localhost:8080/"
        },
        "id": "5yjvmE2WYeiG",
        "outputId": "68917c78-bbd0-4dfa-fd1b-8d7f01b8b988"
      },
      "source": [
        "#Suma de los ejes \n",
        "print(np.sum(count_matrix, axis=0))\n",
        "print(np.sum(count_matrix, axis=1))"
      ],
      "execution_count": 19,
      "outputs": [
        {
          "output_type": "stream",
          "name": "stdout",
          "text": [
            "[24  1  0  2  0]\n",
            "[0 0 2 1 1 1 3 2 1 2 0 1 1 0 1 2 1 4 2 2]\n"
          ]
        }
      ]
    },
    {
      "cell_type": "code",
      "metadata": {
        "colab": {
          "base_uri": "https://localhost:8080/"
        },
        "id": "G7XT2ikQY50M",
        "outputId": "032fee64-2614-4fef-eee6-a07a346fb7c3"
      },
      "source": [
        "#Matríz binaria\n",
        "matrix_uno = np.where(count_matrix > 0,1,0)\n",
        "# Matriz de coexpresión: multiplicación de matrices\n",
        "coexpresion = np.matmul(matrix_uno.T, matrix_uno)\n",
        "coexpresion"
      ],
      "execution_count": 20,
      "outputs": [
        {
          "output_type": "execute_result",
          "data": {
            "text/plain": [
              "array([[16,  1,  0,  2,  0],\n",
              "       [ 1,  1,  0,  0,  0],\n",
              "       [ 0,  0,  0,  0,  0],\n",
              "       [ 2,  0,  0,  2,  0],\n",
              "       [ 0,  0,  0,  0,  0]])"
            ]
          },
          "metadata": {},
          "execution_count": 20
        }
      ]
    },
    {
      "cell_type": "code",
      "metadata": {
        "colab": {
          "base_uri": "https://localhost:8080/",
          "height": 287
        },
        "id": "mvYOhLKwZft9",
        "outputId": "2b934d1e-a915-446e-c663-cc8c40b4242c"
      },
      "source": [
        "#plot de matriz de coexistencia de TFs\n",
        "plt.imshow(coexpresion)\n",
        "plt.colorbar()\n",
        "plt.show"
      ],
      "execution_count": 21,
      "outputs": [
        {
          "output_type": "execute_result",
          "data": {
            "text/plain": [
              "<function matplotlib.pyplot.show>"
            ]
          },
          "metadata": {},
          "execution_count": 21
        },
        {
          "output_type": "display_data",
          "data": {
            "image/png": "[encoded data removed]",
            "text/plain": [
              "<Figure size 432x288 with 2 Axes>"
            ]
          },
          "metadata": {
            "needs_background": "light"
          }
        }
      ]
    },
    {
      "cell_type": "code",
      "metadata": {
        "colab": {
          "base_uri": "https://localhost:8080/",
          "height": 319
        },
        "id": "SkS-FysYaCxI",
        "outputId": "72e6c628-5b7a-4a63-e729-6d4306b889d1"
      },
      "source": [
        "#grafo de matriz coexpresión\n",
        "G = nx.DiGraph(coexpresion)\n",
        "nx.draw(G, node_size=900, with_labels=True)\n",
        "plt.show()"
      ],
      "execution_count": 22,
      "outputs": [
        {
          "output_type": "display_data",
          "data": {
            "image/png": "[encoded data removed]",
            "text/plain": [
              "<Figure size 432x288 with 1 Axes>"
            ]
          },
          "metadata": {}
        }
      ]
    },
    {
      "cell_type": "markdown",
      "metadata": {
        "id": "CrlHrpKxbuww"
      },
      "source": [
        "#Pandas\n",
        "Crear estructuras de datos (basado en NumPy)\n",
        "* Series (1D)\n",
        "* DataFrame (2D)\n",
        "* Panel (3D)\n",
        "\n",
        "series vs arrays (diferentes)\n",
        "\n",
        "con series podemos agregar:\n",
        "\n",
        "* index\n",
        "* name"
      ]
    },
    {
      "cell_type": "code",
      "metadata": {
        "colab": {
          "base_uri": "https://localhost:8080/"
        },
        "id": "hNHXBS5pfSBF",
        "outputId": "4306f2b5-7dd0-47d4-9ff1-d02dfdfd0348"
      },
      "source": [
        "import pandas as pd\n",
        "serie = pd.Series([1,2,3,4,5], \n",
        "                  index=['a','b','c','d','e'],\n",
        "                  name=\"Ejemplo Serie\")\n",
        "serie"
      ],
      "execution_count": 23,
      "outputs": [
        {
          "output_type": "execute_result",
          "data": {
            "text/plain": [
              "a    1\n",
              "b    2\n",
              "c    3\n",
              "d    4\n",
              "e    5\n",
              "Name: Ejemplo Serie, dtype: int64"
            ]
          },
          "metadata": {},
          "execution_count": 23
        }
      ]
    },
    {
      "cell_type": "code",
      "metadata": {
        "colab": {
          "base_uri": "https://localhost:8080/"
        },
        "id": "tzxjNREMcy02",
        "outputId": "a9a518d3-91dd-4237-f2e9-e13c6afb166b"
      },
      "source": [
        "#Especificar el índice\n",
        "ecoli_matraz = pd.Series([0.1, 0.15, 0.19, 0.5, \n",
        "                         0.9, 1.4, 1.8, 2.1, 2.3],\n",
        "                         index=['t1', 't2', 't3', 't4',\n",
        "                                't5', 't6', 't7', 't8', 't9'], \n",
        "                         name='Matraz'\n",
        "                         )\n",
        "ecoli_matraz"
      ],
      "execution_count": 24,
      "outputs": [
        {
          "output_type": "execute_result",
          "data": {
            "text/plain": [
              "t1    0.10\n",
              "t2    0.15\n",
              "t3    0.19\n",
              "t4    0.50\n",
              "t5    0.90\n",
              "t6    1.40\n",
              "t7    1.80\n",
              "t8    2.10\n",
              "t9    2.30\n",
              "Name: Matraz, dtype: float64"
            ]
          },
          "metadata": {},
          "execution_count": 24
        }
      ]
    },
    {
      "cell_type": "code",
      "metadata": {
        "colab": {
          "base_uri": "https://localhost:8080/"
        },
        "id": "EwsaZwpKcX4c",
        "outputId": "d2859013-3aa0-416f-d62c-71fff5bf1286"
      },
      "source": [
        "import pandas as pd\n",
        "ecoli_matraz = pd.Series([0.1, 0.15, 0.19, 0.5],\n",
        "                         name='Matraz'\n",
        "                          )\n",
        "print(ecoli_matraz)"
      ],
      "execution_count": 25,
      "outputs": [
        {
          "output_type": "stream",
          "name": "stdout",
          "text": [
            "0    0.10\n",
            "1    0.15\n",
            "2    0.19\n",
            "3    0.50\n",
            "Name: Matraz, dtype: float64\n"
          ]
        }
      ]
    },
    {
      "cell_type": "markdown",
      "metadata": {
        "id": "IXgQo0z9gbm1"
      },
      "source": [
        "Podemos hacer operaciones como los numpy arrays\n",
        "\n",
        "También podemos hacer operaciones contra otra serie, la diferencia es que aquí no es por posición, sino por índice."
      ]
    },
    {
      "cell_type": "code",
      "metadata": {
        "colab": {
          "base_uri": "https://localhost:8080/"
        },
        "id": "TIIQ4Y8ugIB4",
        "outputId": "74634277-5781-4326-a934-f3013210830c"
      },
      "source": [
        "#Tenemos diferentes longitdes de onda en nuestras ODs.\n",
        "ODs = pd.Series([0.2, 0.2, 0.4, 0.1, 0.2, 0.1, 0.2, 0.4, 0.1],\n",
        "                index = [8,4,1,2,3,0,5,7,6],\n",
        "                name='Ajustes')\n",
        "ODs"
      ],
      "execution_count": 26,
      "outputs": [
        {
          "output_type": "execute_result",
          "data": {
            "text/plain": [
              "8    0.2\n",
              "4    0.2\n",
              "1    0.4\n",
              "2    0.1\n",
              "3    0.2\n",
              "0    0.1\n",
              "5    0.2\n",
              "7    0.4\n",
              "6    0.1\n",
              "Name: Ajustes, dtype: float64"
            ]
          },
          "metadata": {},
          "execution_count": 26
        }
      ]
    },
    {
      "cell_type": "markdown",
      "metadata": {
        "id": "lj6USufvhJSp"
      },
      "source": [
        "## Ejercicio 1\n",
        "Al inducir 5 genes de producción a 30°C se obtuvieron las siguientes producciones del metabolito de interés en g/L:\n",
        "\n",
        "\n",
        "\n",
        "```\n",
        "       30°C\n",
        "Gen1\t   5\n",
        "Gen2\t   11\n",
        "Gen3\t   4\n",
        "Gen4\t   7\n",
        "Gen5\t   2\n",
        "```\n",
        "\n",
        "Cada gen tiene un inductor diferente y conocemos los costos de todos menos del gen 4:\n",
        "\n",
        "\n",
        "```\n",
        "      Costo de inducción\n",
        "Gen1\t    3.5\n",
        "Gen2    \t5\n",
        "Gen3    \t7\n",
        "Gen5    \t4.3\n",
        "```\n"
      ]
    },
    {
      "cell_type": "code",
      "metadata": {
        "colab": {
          "base_uri": "https://localhost:8080/"
        },
        "id": "TXP0OObxhwde",
        "outputId": "1f5af78d-9bb6-4b90-d4e3-a86d4d392441"
      },
      "source": [
        "import pandas as pd\n",
        "produccion = pd.Series([5,11,4,7,2],\n",
        "                       index=['gen1','gen2','gen3','gen4','gen5'])\n",
        "costos = pd.Series([5,4.3,7,3.5],\n",
        "                       index=['gen1','gen2','gen4','gen5'])\n",
        "\n",
        "costo_unitario = costos/produccion.T\n",
        "#Existen NaN (not a nuber)\n",
        "costo_unitario "
      ],
      "execution_count": 27,
      "outputs": [
        {
          "output_type": "execute_result",
          "data": {
            "text/plain": [
              "gen1    1.000000\n",
              "gen2    0.390909\n",
              "gen3         NaN\n",
              "gen4    1.000000\n",
              "gen5    1.750000\n",
              "dtype: float64"
            ]
          },
          "metadata": {},
          "execution_count": 27
        }
      ]
    },
    {
      "cell_type": "code",
      "metadata": {
        "colab": {
          "base_uri": "https://localhost:8080/"
        },
        "id": "-iF9SSzuo9rF",
        "outputId": "0919f633-aa12-40bb-907c-74c906b654d6"
      },
      "source": [
        "#También podemos guardar objetos de python\n",
        "class mamifero(): \n",
        "    # Atributos de clase\n",
        "    vertebrado = True\n",
        "array_test = pd.Series([0.1, 'a', 0.19, mamifero, 2.1],\n",
        "                         name='Multiples objetos'\n",
        "                         )\n",
        "array_test"
      ],
      "execution_count": 28,
      "outputs": [
        {
          "output_type": "execute_result",
          "data": {
            "text/plain": [
              "0                            0.1\n",
              "1                              a\n",
              "2                           0.19\n",
              "3    <class '__main__.mamifero'>\n",
              "4                            2.1\n",
              "Name: Multiples objetos, dtype: object"
            ]
          },
          "metadata": {},
          "execution_count": 28
        }
      ]
    },
    {
      "cell_type": "code",
      "metadata": {
        "colab": {
          "base_uri": "https://localhost:8080/"
        },
        "id": "UPXWSzs8p68H",
        "outputId": "4a998c95-86c6-4977-ca4e-3cf7dcd5f021"
      },
      "source": [
        "### Acceder a Series ###\n",
        "#Similar a NumPy\n",
        "import numpy as np\n",
        "ecoli_matraz_pd = pd.Series([0.1, 0.15, 0.19, 0.5,\n",
        "                         0.9, 1.4, 1.8, 2.1, 2.3])\n",
        "ecoli_matraz_np = np.array([0.1, 0.15, 0.19, 0.5, \n",
        "                         0.9, 1.4, 1.8, 2.1, 2.3])\n",
        "print(ecoli_matraz_pd[0])\n",
        "print(ecoli_matraz_np[0])\n",
        "\n",
        "print(ecoli_matraz_pd[2:5])\n",
        "print(ecoli_matraz_np[2:5])"
      ],
      "execution_count": 29,
      "outputs": [
        {
          "output_type": "stream",
          "name": "stdout",
          "text": [
            "0.1\n",
            "0.1\n",
            "2    0.19\n",
            "3    0.50\n",
            "4    0.90\n",
            "dtype: float64\n",
            "[0.19 0.5  0.9 ]\n"
          ]
        }
      ]
    },
    {
      "cell_type": "code",
      "metadata": {
        "colab": {
          "base_uri": "https://localhost:8080/"
        },
        "id": "dEF8-k3Oq2G6",
        "outputId": "7077410f-e194-461c-e9cb-558e53d43570"
      },
      "source": [
        "### loc (label) y iloc (index ) ###\n",
        "series_test = pd.Series([5.1, 2.2, 1.1, 3.1, 4.2],\n",
        "                         index = [5,2,1,3,4])\n",
        "series_test"
      ],
      "execution_count": 30,
      "outputs": [
        {
          "output_type": "execute_result",
          "data": {
            "text/plain": [
              "5    5.1\n",
              "2    2.2\n",
              "1    1.1\n",
              "3    3.1\n",
              "4    4.2\n",
              "dtype: float64"
            ]
          },
          "metadata": {},
          "execution_count": 30
        }
      ]
    },
    {
      "cell_type": "code",
      "metadata": {
        "colab": {
          "base_uri": "https://localhost:8080/"
        },
        "id": "DYwyEYsyrBK5",
        "outputId": "bb298a6e-6a89-4073-8c19-a92e4ab28dba"
      },
      "source": [
        "print(series_test.iloc[1])\n",
        "print(series_test.loc[1])"
      ],
      "execution_count": 31,
      "outputs": [
        {
          "output_type": "stream",
          "name": "stdout",
          "text": [
            "2.2\n",
            "1.1\n"
          ]
        }
      ]
    },
    {
      "cell_type": "code",
      "metadata": {
        "colab": {
          "base_uri": "https://localhost:8080/"
        },
        "id": "rqK0uHL4jEw4",
        "outputId": "484c5dcc-c123-41b3-ba86-a082ed1b317a"
      },
      "source": [
        "### slices a partir de nombres de índices ###\n",
        "#(un regulón es un grupo de genes regulados como una unidad)\n",
        "\n",
        "regulon = pd.Series(['aidB', 'alaS','bhsA'],\n",
        "                         index=['AidB', 'AlaS','ComR'],\n",
        "                         name='Genes regulados' )\n",
        "regulon"
      ],
      "execution_count": 32,
      "outputs": [
        {
          "output_type": "execute_result",
          "data": {
            "text/plain": [
              "AidB    aidB\n",
              "AlaS    alaS\n",
              "ComR    bhsA\n",
              "Name: Genes regulados, dtype: object"
            ]
          },
          "metadata": {},
          "execution_count": 32
        }
      ]
    },
    {
      "cell_type": "code",
      "metadata": {
        "colab": {
          "base_uri": "https://localhost:8080/"
        },
        "id": "eoEaVeOijfJS",
        "outputId": "ccf9bf38-709f-4e60-c0a5-2b70c2385e02"
      },
      "source": [
        "regulon.loc['AlaS':]"
      ],
      "execution_count": 33,
      "outputs": [
        {
          "output_type": "execute_result",
          "data": {
            "text/plain": [
              "AlaS    alaS\n",
              "ComR    bhsA\n",
              "Name: Genes regulados, dtype: object"
            ]
          },
          "metadata": {},
          "execution_count": 33
        }
      ]
    },
    {
      "cell_type": "code",
      "metadata": {
        "colab": {
          "base_uri": "https://localhost:8080/"
        },
        "id": "DRTm9x6Rjkc7",
        "outputId": "ad1a53e7-32e5-4e06-e936-f536c68bb461"
      },
      "source": [
        "### También podemos acceder con booleanos ###\n",
        "bool_exp_pd = ecoli_matraz_pd<0.4\n",
        "ecoli_matraz_pd[bool_exp_pd]"
      ],
      "execution_count": 34,
      "outputs": [
        {
          "output_type": "execute_result",
          "data": {
            "text/plain": [
              "0    0.10\n",
              "1    0.15\n",
              "2    0.19\n",
              "dtype: float64"
            ]
          },
          "metadata": {},
          "execution_count": 34
        }
      ]
    },
    {
      "cell_type": "markdown",
      "metadata": {
        "id": "TPy1kAJPj1_0"
      },
      "source": [
        "## Ejercicio 2\n",
        "Del ejericio anterior, imprime el costo de producción más alto y el más bajo utilizando booleanos."
      ]
    },
    {
      "cell_type": "code",
      "metadata": {
        "colab": {
          "base_uri": "https://localhost:8080/"
        },
        "id": "5M1u6AlTj44a",
        "outputId": "ef94a889-c5ae-4a2a-ec7e-719cc870e63b"
      },
      "source": [
        "bol_min = costo_unitario == costo_unitario.min()\n",
        "bol_max = costo_unitario == costo_unitario.max()\n",
        "\n",
        "costo_unitario[bol_min | bol_max]"
      ],
      "execution_count": 35,
      "outputs": [
        {
          "output_type": "execute_result",
          "data": {
            "text/plain": [
              "gen2    0.390909\n",
              "gen5    1.750000\n",
              "dtype: float64"
            ]
          },
          "metadata": {},
          "execution_count": 35
        }
      ]
    },
    {
      "cell_type": "code",
      "metadata": {
        "colab": {
          "base_uri": "https://localhost:8080/"
        },
        "id": "s1YGb9QhkhtA",
        "outputId": "9fab0a8a-6420-44c3-cca5-9b1154129e39"
      },
      "source": [
        "### Podemos repetir índices ###\n",
        "regulon = pd.Series(['aidB', 'alaS', 'accB','accC','bhsA'],\n",
        "                         index=['AidB', 'AlaS', 'AccB', 'AccB','ComR'],\n",
        "                         name='Genes regulados' )\n",
        "print(regulon['AccB'], '\\n')  #Objeto serie\n",
        "print(regulon['AidB'])  # Valor único"
      ],
      "execution_count": 38,
      "outputs": [
        {
          "output_type": "stream",
          "name": "stdout",
          "text": [
            "AccB    accB\n",
            "AccB    accC\n",
            "Name: Genes regulados, dtype: object \n",
            "\n",
            "aidB\n"
          ]
        }
      ]
    },
    {
      "cell_type": "code",
      "metadata": {
        "colab": {
          "base_uri": "https://localhost:8080/"
        },
        "id": "HRmgIU5DlAhR",
        "outputId": "db7b8a54-2844-4ba0-e35e-c0c94bf0c04c"
      },
      "source": [
        "### iterando sobre una serie ###\n",
        "serie = pd.Series(['a', 'b', 'c', 'd', 'e'])\n",
        "[letra for letra in serie ]"
      ],
      "execution_count": 39,
      "outputs": [
        {
          "output_type": "execute_result",
          "data": {
            "text/plain": [
              "['a', 'b', 'c', 'd', 'e']"
            ]
          },
          "metadata": {},
          "execution_count": 39
        }
      ]
    },
    {
      "cell_type": "code",
      "metadata": {
        "colab": {
          "base_uri": "https://localhost:8080/"
        },
        "id": "ye_LVaFrlflE",
        "outputId": "d9f23160-4fc5-47f5-bede-1ed88f88d935"
      },
      "source": [
        "#¿Cómo le preguntamos a una lista si contiene un valor?\n",
        "#No trabaja sobre valores, trabaja sobre indices\n",
        "print('a' in serie)\n",
        "print(0 in serie)"
      ],
      "execution_count": 41,
      "outputs": [
        {
          "output_type": "stream",
          "name": "stdout",
          "text": [
            "False\n",
            "True\n"
          ]
        }
      ]
    },
    {
      "cell_type": "markdown",
      "metadata": {
        "id": "tJo51Ny0mzl7"
      },
      "source": [
        "Pertenencia es sobre el índice, mientras que la iteración es sobre los valores"
      ]
    },
    {
      "cell_type": "code",
      "metadata": {
        "colab": {
          "base_uri": "https://localhost:8080/"
        },
        "id": "QouH-kEMmDTL",
        "outputId": "9581da6e-c4c2-47be-9246-1d85b1d061e3"
      },
      "source": [
        "#¿Cómo lo preguntamos en un objeto Series?\n",
        "'a' in serie.values"
      ],
      "execution_count": 42,
      "outputs": [
        {
          "output_type": "execute_result",
          "data": {
            "text/plain": [
              "True"
            ]
          },
          "metadata": {},
          "execution_count": 42
        }
      ]
    },
    {
      "cell_type": "code",
      "metadata": {
        "id": "vm2qCwdRmYdb"
      },
      "source": [
        "#valores\n",
        "serie.values\n",
        "#index\n",
        "serie.index\n",
        "#llaves\n",
        "serie.keys()"
      ],
      "execution_count": null,
      "outputs": []
    },
    {
      "cell_type": "code",
      "metadata": {
        "colab": {
          "base_uri": "https://localhost:8080/"
        },
        "id": "oWXeHUG2m10n",
        "outputId": "36b26c86-e53f-4e23-98c2-6ac2610f68b0"
      },
      "source": [
        "### asignación de valores ###\n",
        "regulon.loc['AidB'] = 'Modificado1'\n",
        "regulon.loc['AccB'] = 'Modificado2'\n",
        "regulon"
      ],
      "execution_count": 45,
      "outputs": [
        {
          "output_type": "execute_result",
          "data": {
            "text/plain": [
              "AidB    Modificado1\n",
              "AlaS           alaS\n",
              "AccB    Modificado2\n",
              "AccB    Modificado2\n",
              "ComR           bhsA\n",
              "Name: Genes regulados, dtype: object"
            ]
          },
          "metadata": {},
          "execution_count": 45
        }
      ]
    },
    {
      "cell_type": "code",
      "metadata": {
        "colab": {
          "base_uri": "https://localhost:8080/"
        },
        "id": "tbNI8qM3nFrZ",
        "outputId": "d3f0f358-ff53-4442-df38-72128264a82e"
      },
      "source": [
        "#También podemos acceder con listas\n",
        "regulon.iloc[[0,4]] = 'Lista'\n",
        "regulon"
      ],
      "execution_count": 46,
      "outputs": [
        {
          "output_type": "execute_result",
          "data": {
            "text/plain": [
              "AidB          Lista\n",
              "AlaS           alaS\n",
              "AccB    Modificado2\n",
              "AccB    Modificado2\n",
              "ComR          Lista\n",
              "Name: Genes regulados, dtype: object"
            ]
          },
          "metadata": {},
          "execution_count": 46
        }
      ]
    },
    {
      "cell_type": "markdown",
      "metadata": {
        "id": "AglhRu90n2Z5"
      },
      "source": [
        "Si necesitamos que los índices sean numéricos, podemos utilizar reset_index manteniendo o eliminando el índice anterior."
      ]
    },
    {
      "cell_type": "code",
      "metadata": {
        "colab": {
          "base_uri": "https://localhost:8080/",
          "height": 206
        },
        "id": "B5G4KfBJnWxf",
        "outputId": "8adaef2f-b611-4661-a70b-785e76720c87"
      },
      "source": [
        "regulon.reset_index()"
      ],
      "execution_count": 47,
      "outputs": [
        {
          "output_type": "execute_result",
          "data": {
            "text/html": [
              "<div>\n",
              "<style scoped>\n",
              "    .dataframe tbody tr th:only-of-type {\n",
              "        vertical-align: middle;\n",
              "    }\n",
              "\n",
              "    .dataframe tbody tr th {\n",
              "        vertical-align: top;\n",
              "    }\n",
              "\n",
              "    .dataframe thead th {\n",
              "        text-align: right;\n",
              "    }\n",
              "</style>\n",
              "<table border=\"1\" class=\"dataframe\">\n",
              "  <thead>\n",
              "    <tr style=\"text-align: right;\">\n",
              "      <th></th>\n",
              "      <th>index</th>\n",
              "      <th>Genes regulados</th>\n",
              "    </tr>\n",
              "  </thead>\n",
              "  <tbody>\n",
              "    <tr>\n",
              "      <th>0</th>\n",
              "      <td>AidB</td>\n",
              "      <td>Lista</td>\n",
              "    </tr>\n",
              "    <tr>\n",
              "      <th>1</th>\n",
              "      <td>AlaS</td>\n",
              "      <td>alaS</td>\n",
              "    </tr>\n",
              "    <tr>\n",
              "      <th>2</th>\n",
              "      <td>AccB</td>\n",
              "      <td>Modificado2</td>\n",
              "    </tr>\n",
              "    <tr>\n",
              "      <th>3</th>\n",
              "      <td>AccB</td>\n",
              "      <td>Modificado2</td>\n",
              "    </tr>\n",
              "    <tr>\n",
              "      <th>4</th>\n",
              "      <td>ComR</td>\n",
              "      <td>Lista</td>\n",
              "    </tr>\n",
              "  </tbody>\n",
              "</table>\n",
              "</div>"
            ],
            "text/plain": [
              "  index Genes regulados\n",
              "0  AidB           Lista\n",
              "1  AlaS            alaS\n",
              "2  AccB     Modificado2\n",
              "3  AccB     Modificado2\n",
              "4  ComR           Lista"
            ]
          },
          "metadata": {},
          "execution_count": 47
        }
      ]
    },
    {
      "cell_type": "code",
      "metadata": {
        "colab": {
          "base_uri": "https://localhost:8080/"
        },
        "id": "S8M1Y0PDoHAO",
        "outputId": "b8ac4334-3334-47c0-d330-e8f2acb0a9a9"
      },
      "source": [
        "#Podemos obtener frecuencias\n",
        "regulon.value_counts()"
      ],
      "execution_count": 48,
      "outputs": [
        {
          "output_type": "execute_result",
          "data": {
            "text/plain": [
              "Lista          2\n",
              "Modificado2    2\n",
              "alaS           1\n",
              "Name: Genes regulados, dtype: int64"
            ]
          },
          "metadata": {},
          "execution_count": 48
        }
      ]
    },
    {
      "cell_type": "markdown",
      "metadata": {
        "id": "9oWug7r-oPvr"
      },
      "source": [
        "### Estadística\n",
        "```\n",
        "ecoli_matraz.mean()\n",
        "ecoli_matraz.median()\n",
        "ecoli_matraz.quantile()\n",
        "ecoli_matraz.quantile(.25)\n",
        "ecoli_matraz.describe()\n",
        "ecoli_matraz.std()\n",
        "```\n",
        "También podemos hacer:\n",
        "\n",
        "* append()\n",
        "* update()\n",
        "* repeat()\n",
        "* sort_values()\n",
        "* sort_index()"
      ]
    }
  ]
}