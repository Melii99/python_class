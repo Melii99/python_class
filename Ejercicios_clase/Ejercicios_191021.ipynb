{
  "nbformat": 4,
  "nbformat_minor": 0,
  "metadata": {
    "colab": {
      "name": "Ejercicios_191021.ipynb",
      "provenance": [],
      "collapsed_sections": []
    },
    "kernelspec": {
      "name": "python3",
      "display_name": "Python 3"
    },
    "language_info": {
      "name": "python"
    }
  },
  "cells": [
    {
      "cell_type": "markdown",
      "metadata": {
        "id": "Bo6UavFFEUmz"
      },
      "source": [
        "#NumPy\n",
        "Creación de arreglos (arrays), mayor eficiencia en memoria.\n",
        "\n",
        "Los arrays pueden contener diferentes tipos de dato, pero ólo uno a la vez.\n",
        "\n",
        "No necesitamos iterar sobre cada casilla, podemos pensar en los arrays como objetos (similar a R).\n",
        "\n"
      ]
    },
    {
      "cell_type": "code",
      "metadata": {
        "id": "SLLlJemiBO8Z",
        "colab": {
          "base_uri": "https://localhost:8080/"
        },
        "outputId": "828a84ae-26b7-4c5c-be3f-106a26051b9a"
      },
      "source": [
        "#Importamos NumPy \n",
        "import numpy as np\n",
        "\n",
        "array_1D = np.array([1,2,3])\n",
        "array_1D"
      ],
      "execution_count": null,
      "outputs": [
        {
          "output_type": "execute_result",
          "data": {
            "text/plain": [
              "array([1, 2, 3])"
            ]
          },
          "metadata": {},
          "execution_count": 31
        }
      ]
    },
    {
      "cell_type": "code",
      "metadata": {
        "colab": {
          "base_uri": "https://localhost:8080/"
        },
        "id": "kIIkFjVlHHSI",
        "outputId": "62adcd6d-7cea-447c-9eb4-2df229fd2359"
      },
      "source": [
        "array_2D = np.array([ [1,2,3], (2,3,4)])\n",
        "array_2D"
      ],
      "execution_count": null,
      "outputs": [
        {
          "output_type": "execute_result",
          "data": {
            "text/plain": [
              "array([[1, 2, 3],\n",
              "       [2, 3, 4]])"
            ]
          },
          "metadata": {},
          "execution_count": 32
        }
      ]
    },
    {
      "cell_type": "code",
      "metadata": {
        "colab": {
          "base_uri": "https://localhost:8080/"
        },
        "id": "raBry-IkHJQZ",
        "outputId": "f8806081-7a43-4cfb-9214-09fdb48f0f56"
      },
      "source": [
        "array_3D = np.array([  [ [1, 2], [3, 4] ],   [ [5, 6], [7, 8] ]  ])\n",
        "array_3D"
      ],
      "execution_count": null,
      "outputs": [
        {
          "output_type": "execute_result",
          "data": {
            "text/plain": [
              "array([[[1, 2],\n",
              "        [3, 4]],\n",
              "\n",
              "       [[5, 6],\n",
              "        [7, 8]]])"
            ]
          },
          "metadata": {},
          "execution_count": 33
        }
      ]
    },
    {
      "cell_type": "code",
      "metadata": {
        "colab": {
          "base_uri": "https://localhost:8080/"
        },
        "id": "oYWp6Ei5HNIa",
        "outputId": "a34b00c5-b87a-47e8-bbdb-c41a51762d75"
      },
      "source": [
        "### Biomasa E. coli ###\n",
        "\n",
        "# Ingresamos la biomasa en unidades de absorbancia \n",
        "ecoli_matraz = np.array([0.1, 0.15, 0.19, 0.5, \n",
        "                         0.9, 1.4, 1.8, 2.1, 2.3])\n",
        "print(ecoli_matraz.ndim)\n",
        "print(ecoli_matraz.shape)\n",
        "print(len(ecoli_matraz))"
      ],
      "execution_count": null,
      "outputs": [
        {
          "output_type": "stream",
          "name": "stdout",
          "text": [
            "1\n",
            "(9,)\n",
            "9\n"
          ]
        }
      ]
    },
    {
      "cell_type": "code",
      "metadata": {
        "colab": {
          "base_uri": "https://localhost:8080/"
        },
        "id": "97ZEmslTIEz_",
        "outputId": "72108423-a3fb-4387-96c6-7dca8740c26d"
      },
      "source": [
        "#Biomasa en unidades de absorbancia  (OD600)\n",
        "ecoli_m_b = np.array([[0.1, 0.15, 0.19, 0.5,  #Matraz 250 mL\n",
        "                       0.9, 1.4, 1.8, 2.1, 2.3],\n",
        "                      [0.1, 0.17, 0.2, 0.53,  #Biorreactor 50 L\n",
        "                       0.97, 1.43, 1.8, 2.1,  2.8],\n",
        "                      [0.1, 0.17, 0.2, 0.52,  #B. alimentado 50 L\n",
        "                       0.95, 1.41, 1.8, 2.2,  2.8] \n",
        "                      ])\n",
        "\n",
        "print(ecoli_m_b.ndim)\n",
        "print(ecoli_m_b.shape)\n",
        "print(len(ecoli_m_b))"
      ],
      "execution_count": null,
      "outputs": [
        {
          "output_type": "stream",
          "name": "stdout",
          "text": [
            "2\n",
            "(3, 9)\n",
            "3\n"
          ]
        }
      ]
    },
    {
      "cell_type": "code",
      "metadata": {
        "colab": {
          "base_uri": "https://localhost:8080/"
        },
        "id": "FTo0g4O_ImnS",
        "outputId": "1c7e97e2-8f2c-4b12-ba99-59e93891e966"
      },
      "source": [
        "#Otra forma de hacerlo\n",
        "\n",
        "array_1D = np.array((1,2,3))\n",
        "print(array_1D.ndim)\n",
        "print(array_1D.shape)\n",
        "print(len(array_1D))\n",
        "\n",
        "array_2D = np.array([ (1,2,3),(4,5,6) ])\n",
        "print(array_2D.ndim)\n",
        "print(array_2D.shape)\n",
        "print(len(array_2D))\n",
        "\n",
        "array_3D = np.array([ ([1,2], [3,4]),\n",
        "                     ([5,6], [7,8]) ] )"
      ],
      "execution_count": null,
      "outputs": [
        {
          "output_type": "stream",
          "name": "stdout",
          "text": [
            "1\n",
            "(3,)\n",
            "3\n",
            "2\n",
            "(2, 3)\n",
            "2\n"
          ]
        }
      ]
    },
    {
      "cell_type": "code",
      "metadata": {
        "colab": {
          "base_uri": "https://localhost:8080/"
        },
        "id": "QFc9d2MFKwSS",
        "outputId": "7e5f2d12-f0b5-43c4-cfd5-270bbcc2e9c7"
      },
      "source": [
        "### Una OD600 de 1 representa 0.39 g/L de peso seco. ###\n",
        "\n",
        "#Biomasa en unidades de absorbancia  (OD600)\n",
        "# Valor original 1\n",
        "ecoli_m_b = np.array([[0.1, 0.15, 0.19, 0.5,  #Matraz 250 mL\n",
        "                       0.9, 1.4, 1.8, 2.1, 2.3],\n",
        "                      [0.1, 0.17, 0.2, 0.53,  #Biorreactor 50 L\n",
        "                       0.97, 1.43, 1.8, 2.1,  2.8],\n",
        "                      [0.1, 0.17, 0.2, 0.52,  #B. alimentado 50 L\n",
        "                       0.95, 1.41, 1.8, 2.2,  2.8] \n",
        "                      ])\n",
        "\n",
        "#Valor *0.39\n",
        "ecoli_matraz_gL = ecoli_m_b * 0.39\n",
        "ecoli_matraz_gL"
      ],
      "execution_count": null,
      "outputs": [
        {
          "output_type": "execute_result",
          "data": {
            "text/plain": [
              "array([[0.039 , 0.0585, 0.0741, 0.195 , 0.351 , 0.546 , 0.702 , 0.819 ,\n",
              "        0.897 ],\n",
              "       [0.039 , 0.0663, 0.078 , 0.2067, 0.3783, 0.5577, 0.702 , 0.819 ,\n",
              "        1.092 ],\n",
              "       [0.039 , 0.0663, 0.078 , 0.2028, 0.3705, 0.5499, 0.702 , 0.858 ,\n",
              "        1.092 ]])"
            ]
          },
          "metadata": {},
          "execution_count": 37
        }
      ]
    },
    {
      "cell_type": "markdown",
      "metadata": {
        "id": "DYQL3gCXLUKx"
      },
      "source": [
        "##Operaciones\n",
        "\n",
        "podemos aplicar operaciones directamente al objeto (se aplican en cada ítem del objeto)"
      ]
    },
    {
      "cell_type": "code",
      "metadata": {
        "colab": {
          "base_uri": "https://localhost:8080/"
        },
        "id": "JTMX6AJELSCM",
        "outputId": "4cad0772-9fac-4ad9-be01-3624a2a693f5"
      },
      "source": [
        "# ¿Cuál sería el total de mi producción si tengo 2 biorreactores?\n",
        "produccion = np.array([[16, 14],  # 1 biorreactor\n",
        "                       [12, 9]])\n",
        "total = produccion*2\n",
        "total = produccion + produccion\n",
        "\n",
        "m = np.sum(produccion*2, axis= 0) # Por metabolito\n",
        "b = np.sum(produccion*2, axis= 1) # Por bacteria\n",
        "\n",
        "print(total)\n",
        "print(m)\n",
        "print(b)"
      ],
      "execution_count": null,
      "outputs": [
        {
          "output_type": "stream",
          "name": "stdout",
          "text": [
            "[[32 28]\n",
            " [24 18]]\n",
            "[56 46]\n",
            "[60 42]\n"
          ]
        }
      ]
    },
    {
      "cell_type": "code",
      "metadata": {
        "colab": {
          "base_uri": "https://localhost:8080/"
        },
        "id": "rzrl3btcM0_4",
        "outputId": "73aea48b-4a6c-4ab5-d834-76f7a9b8f64b"
      },
      "source": [
        "#Al extraer el producto, se contaminó la mitad del líquido de uno de los biorreactores\n",
        "contaminado = total/2\n",
        "print(contaminado)\n",
        "\n",
        "total_real = total-contaminado\n",
        "print(total_real)"
      ],
      "execution_count": null,
      "outputs": [
        {
          "output_type": "stream",
          "name": "stdout",
          "text": [
            "[[16. 14.]\n",
            " [12.  9.]]\n",
            "[[16. 14.]\n",
            " [12.  9.]]\n"
          ]
        }
      ]
    },
    {
      "cell_type": "markdown",
      "metadata": {
        "id": "6cKYhL8kOZoz"
      },
      "source": [
        "Para crear un fármaco, necesito las siguientes cantidades de los metabolitos de cada bacteria\n",
        "```\n",
        "\t            Metabolito A\tMetabolito B\n",
        "Consumo bac1  \t  7\t              3\n",
        "Consumo bac2\t    5\t              2\n",
        "```\n",
        "\n"
      ]
    },
    {
      "cell_type": "code",
      "metadata": {
        "colab": {
          "base_uri": "https://localhost:8080/"
        },
        "id": "VHm0mPO_N4fj",
        "outputId": "9595266f-5e69-42e2-ff49-099e6c442f4d"
      },
      "source": [
        "#¿Cuánto producto me sobra?\n",
        "consumo =  np.array([[7, 3],[5, 2]])\n",
        "print(total_real)\n",
        "total_real-consumo"
      ],
      "execution_count": null,
      "outputs": [
        {
          "output_type": "stream",
          "name": "stdout",
          "text": [
            "[[16. 14.]\n",
            " [12.  9.]]\n"
          ]
        },
        {
          "output_type": "execute_result",
          "data": {
            "text/plain": [
              "array([[ 9., 11.],\n",
              "       [ 7.,  7.]])"
            ]
          },
          "metadata": {},
          "execution_count": 40
        }
      ]
    },
    {
      "cell_type": "code",
      "metadata": {
        "colab": {
          "base_uri": "https://localhost:8080/"
        },
        "id": "Dz8sk7A8PH1h",
        "outputId": "37f65234-c274-4cfd-f714-6c3674cfaca9"
      },
      "source": [
        "#¿Si se necesitara la misma cantidad por cada bacteria? \n",
        "#¿Cómo crearian ahora a la variable consumo?\n",
        "\n",
        "consumo =  np.array([[7, 3],[7, 3]])\n",
        "total_real - consumo  #Por bacteria\n",
        "\n",
        "consumo =  np.array([7, 3])  #Al igual que en R, podemos reciclar:\n",
        "total_real - consumo  #Por bacteria"
      ],
      "execution_count": null,
      "outputs": [
        {
          "output_type": "execute_result",
          "data": {
            "text/plain": [
              "array([[ 9., 11.],\n",
              "       [ 5.,  6.]])"
            ]
          },
          "metadata": {},
          "execution_count": 41
        }
      ]
    },
    {
      "cell_type": "markdown",
      "metadata": {
        "id": "B8GFoSocPwjQ"
      },
      "source": [
        "### Podemos aplicar otras funciones\n",
        "* Potencia \n",
        "* Transpuesta y suma total\n",
        "* Mínimo y máximo\n",
        "* Exponencial y raíz cuadrada\n",
        "* Trigonométricas\n",
        "* Calcular y asignar\n",
        "* Redondeo\n"
      ]
    },
    {
      "cell_type": "code",
      "metadata": {
        "colab": {
          "base_uri": "https://localhost:8080/"
        },
        "id": "IAGF9C7wQOxD",
        "outputId": "66e6a302-4435-4956-8006-e6551fb5dbb8"
      },
      "source": [
        "#Potencia\n",
        "total_real**2\n",
        "total_real**total_real\n",
        "\n",
        "#transpuesta\n",
        "total_real.T\n",
        "\n",
        "#Suma total\n",
        "total_real.sum()\n",
        "\n",
        "#minimo y máximo\n",
        "total_real.min() \n",
        "total_real.max()\n",
        "np.max(total_real)\n",
        "\n",
        "#Exponencial y raíz cuadrada\n",
        "np.exp(total_real)\n",
        "np.sqrt(total_real)\n",
        "\n",
        "#Trigonométricas\n",
        "np.sin(np.array([np.pi, np.pi/2]))\n",
        "np.arcsin(np.array([0.0, 1.0]))\n",
        "\n",
        "#Calcular y asignar\n",
        "total_real += 2\n",
        "total_real *= 2\n",
        "\n",
        "#Redondeo\n",
        "redondear = np.array([1.1, 1.5, 1.9, 2.5])\n",
        "np.round(redondear)\n",
        "np.floor(redondear)  #entero abajo\n",
        "np.ceil(redondear)  #entero arriba\n"
      ],
      "execution_count": null,
      "outputs": [
        {
          "output_type": "execute_result",
          "data": {
            "text/plain": [
              "array([2., 2., 2., 3.])"
            ]
          },
          "metadata": {},
          "execution_count": 42
        }
      ]
    },
    {
      "cell_type": "markdown",
      "metadata": {
        "id": "LSRdQwpPZdPj"
      },
      "source": [
        "## Ejercicio 1\n",
        "Al inducir 4 genes de producción a diferentes temperaturas se obtuvieron las siguientes producciones del metabolito de interés en g/L:\n",
        "\n",
        "\n",
        "```\n",
        "\t    30 °C \t35 °C\n",
        "Gen1\t   5    \t3\n",
        "Gen2\t  11\t    7\n",
        "Gen3\t   4\t    9\n",
        "Gen4\t   2\t    6\n",
        "```\n",
        "Cada gen tiene un inductor diferente y cada uno tuvo los siguientes costos:\n",
        "\n",
        "\n",
        "```\n",
        "\t   Costo de inducción\n",
        "Gen1\t    3.5\n",
        "Gen2\t    5\n",
        "Gen3\t    7\n",
        "Gen4\t    4.3\n",
        "```\n",
        "¿Qué gen nos conviene inducir y a qué temperatura para obtener nuestro metabolito?\n",
        "\n",
        "\n",
        "\n",
        "\n"
      ]
    },
    {
      "cell_type": "code",
      "metadata": {
        "id": "_0sNrh8TeyvN"
      },
      "source": [
        "produccion = np.array( [ [5,3], \n",
        "                        [11, 7], \n",
        "                        [4, 9], \n",
        "                        [2, 6] ])\n",
        "\n",
        "costos = np.array([3.5, 5, 7, 4.3])\n",
        "\n",
        "#Costo unitario de producir 1g/L metabolito\n",
        "costo_unitario = (costos / produccion.T).T\n"
      ],
      "execution_count": null,
      "outputs": []
    },
    {
      "cell_type": "markdown",
      "metadata": {
        "id": "Wg5C-LCFgcBk"
      },
      "source": [
        "### Tipos de dato \n"
      ]
    },
    {
      "cell_type": "code",
      "metadata": {
        "colab": {
          "base_uri": "https://localhost:8080/"
        },
        "id": "B0jURX6Pglas",
        "outputId": "9529a800-5b01-48c4-cb01-37fa395dde2a"
      },
      "source": [
        "#Preguntar tipo de dato: dtype\n",
        "\n",
        "from sys import getsizeof\n",
        "\n",
        "np_float = np.array([1.0, 2.0, 3.0, 4.0])\n",
        "print(\"Tipo de dato\\t\", np_float.dtype, \n",
        "\"\\nTamaño en bytes\\t\", getsizeof(np_float))\n",
        "\n",
        "np_int = np.array([1, 2, 3, 4])\n",
        "print(\"Tipo de dato\\t\", np_int.dtype, \n",
        "\"\\nTamaño en bytes\\t\", getsizeof(np_int))"
      ],
      "execution_count": null,
      "outputs": [
        {
          "output_type": "stream",
          "name": "stdout",
          "text": [
            "Tipo de dato\t float64 \n",
            "Tamaño en bytes\t 128\n",
            "Tipo de dato\t int64 \n",
            "Tamaño en bytes\t 128\n"
          ]
        }
      ]
    },
    {
      "cell_type": "code",
      "metadata": {
        "colab": {
          "base_uri": "https://localhost:8080/"
        },
        "id": "6EPSj73LhBrR",
        "outputId": "34d49f79-9079-4f07-dcdc-12b1c5fd16d4"
      },
      "source": [
        "#Tambien podemos especificar/forzar tipos de dato\n",
        "\n",
        "np_float = np.array([1, 2, 3, 4],\n",
        "                    dtype='float64')\n",
        "print(\"Tipo de dato\\t\", np_float.dtype, \n",
        "\"\\nTamaño en bytes\\t\", getsizeof(np_float))\n",
        "\n",
        "np_int = np.array([1.0, 2.0, 3.0, 4.0],\n",
        "                  dtype='int32')\n",
        "print(\"Tipo de dato\\t\", np_int.dtype, \n",
        "\"\\nTamaño en bytes\\t\", getsizeof(np_int))"
      ],
      "execution_count": null,
      "outputs": [
        {
          "output_type": "stream",
          "name": "stdout",
          "text": [
            "Tipo de dato\t float64 \n",
            "Tamaño en bytes\t 128\n",
            "Tipo de dato\t int32 \n",
            "Tamaño en bytes\t 112\n"
          ]
        }
      ]
    },
    {
      "cell_type": "code",
      "metadata": {
        "colab": {
          "base_uri": "https://localhost:8080/"
        },
        "id": "1ZPjEUo8hLwd",
        "outputId": "ebe88757-aa3d-4365-b586-43076485868d"
      },
      "source": [
        "### Tipo de dato booleano ### \n",
        "bool_np = np.array([True, False, True, False]) \n",
        "bool_np.dtype\n",
        "\n",
        "#Accedemos con el array booleano\n",
        "np_int\n"
      ],
      "execution_count": null,
      "outputs": [
        {
          "output_type": "execute_result",
          "data": {
            "text/plain": [
              "array([1, 2, 3, 4], dtype=int32)"
            ]
          },
          "metadata": {},
          "execution_count": 53
        }
      ]
    },
    {
      "cell_type": "code",
      "metadata": {
        "colab": {
          "base_uri": "https://localhost:8080/"
        },
        "id": "WdkSWsOMh0Jk",
        "outputId": "c1bec72c-4568-4428-df66-ec7a64e710ea"
      },
      "source": [
        "#Otros ejemplos de acceso con booleanos\n",
        "np_int <3"
      ],
      "execution_count": null,
      "outputs": [
        {
          "output_type": "execute_result",
          "data": {
            "text/plain": [
              "array([ True,  True, False, False])"
            ]
          },
          "metadata": {},
          "execution_count": 54
        }
      ]
    },
    {
      "cell_type": "markdown",
      "metadata": {
        "id": "C-X7iEa8h8t5"
      },
      "source": [
        "## Ejercicio 2\n",
        "Del ejericio anterior, imprime el costo de producción más alto y el más bajo utilizando booleanos."
      ]
    },
    {
      "cell_type": "code",
      "metadata": {
        "colab": {
          "base_uri": "https://localhost:8080/"
        },
        "id": "NpshP4b-iAWY",
        "outputId": "79172fc0-d523-4938-b8d6-ddb03e73414d"
      },
      "source": [
        "menor_costo = costo_unitario.min()\n",
        "mayor_costo = costo_unitario.max()\n",
        "\n",
        "menor_costo_bol = costo_unitario == menor_costo\n",
        "mayor_costo_bol = costo_unitario == mayor_costo\n",
        "\n",
        "(mayor_costo_bol | menor_costo_bol)"
      ],
      "execution_count": null,
      "outputs": [
        {
          "output_type": "execute_result",
          "data": {
            "text/plain": [
              "array([[False, False],\n",
              "       [ True, False],\n",
              "       [False, False],\n",
              "       [ True, False]])"
            ]
          },
          "metadata": {},
          "execution_count": 55
        }
      ]
    },
    {
      "cell_type": "code",
      "metadata": {
        "id": "jLLOdPB0kEbS"
      },
      "source": [
        "### Tipo de dato complejo ###\n",
        "\n",
        "num_1 = np.array([3+6j])   \n",
        "num_2 = np.array([7+2j])   \n",
        "num_1.dtype\n",
        "\n",
        "num_1.real  #parte real\n",
        "num_1.imag  #parte imaginaria\n",
        "num_1+num_2  #suma"
      ],
      "execution_count": null,
      "outputs": []
    },
    {
      "cell_type": "code",
      "metadata": {
        "colab": {
          "base_uri": "https://localhost:8080/"
        },
        "id": "708xTIpEkeL6",
        "outputId": "c12c5b1d-c349-4afa-ee8a-314244bf46a8"
      },
      "source": [
        "### Tipo de dato fecha: ISO 8601 o formato datetime ###\n",
        "\n",
        "dias = np.datetime64('2005-02-25')\n",
        "dias.dtype"
      ],
      "execution_count": null,
      "outputs": [
        {
          "output_type": "execute_result",
          "data": {
            "text/plain": [
              "dtype('<M8[D]')"
            ]
          },
          "metadata": {},
          "execution_count": 58
        }
      ]
    },
    {
      "cell_type": "code",
      "metadata": {
        "colab": {
          "base_uri": "https://localhost:8080/"
        },
        "id": "lvSn3TbDkpcW",
        "outputId": "147d82ba-559b-46d5-fc0c-8a11fa98e479"
      },
      "source": [
        "meses = np.datetime64('2005-02')\n",
        "meses.dtype"
      ],
      "execution_count": null,
      "outputs": [
        {
          "output_type": "execute_result",
          "data": {
            "text/plain": [
              "dtype('<M8[M]')"
            ]
          },
          "metadata": {},
          "execution_count": 59
        }
      ]
    },
    {
      "cell_type": "code",
      "metadata": {
        "colab": {
          "base_uri": "https://localhost:8080/"
        },
        "id": "p5FTC7rekswV",
        "outputId": "dba7c1af-0f5c-44a1-bd1d-2a8fcfa0d20e"
      },
      "source": [
        "forzar_dias = np.datetime64('2005-02', 'D')\n",
        "forzar_dias.dtype"
      ],
      "execution_count": null,
      "outputs": [
        {
          "output_type": "execute_result",
          "data": {
            "text/plain": [
              "dtype('<M8[D]')"
            ]
          },
          "metadata": {},
          "execution_count": 60
        }
      ]
    },
    {
      "cell_type": "code",
      "metadata": {
        "id": "If2U1ZTUkuIM"
      },
      "source": [
        "#Comparar fechas\n",
        "np.datetime64('2005') == np.datetime64('2005-01-01')\n",
        "#Cálculos con fechas\n",
        "np.datetime64('2009-01-01') - np.datetime64('2008-01-01')\n",
        "np.datetime64('2009') + np.timedelta64(20, 'D')"
      ],
      "execution_count": null,
      "outputs": []
    },
    {
      "cell_type": "markdown",
      "metadata": {
        "id": "iH0RcSZck_uQ"
      },
      "source": [
        "### Acceder al array 1D"
      ]
    },
    {
      "cell_type": "code",
      "metadata": {
        "colab": {
          "base_uri": "https://localhost:8080/"
        },
        "id": "oTeNNDa6k82P",
        "outputId": "15da5199-3ce5-4639-cd81-1ac4b018c3d6"
      },
      "source": [
        "print(ecoli_matraz)\n",
        "print(ecoli_matraz[2])\n",
        "print(ecoli_matraz[2:5])\n",
        "\n",
        "# Del 0 al 6 de 2 en 2\n",
        "ecoli_matraz[0:6:2] \n"
      ],
      "execution_count": null,
      "outputs": [
        {
          "output_type": "stream",
          "name": "stdout",
          "text": [
            "[0.1  0.15 0.19 0.5  0.9  1.4  1.8  2.1  2.3 ]\n",
            "0.19\n",
            "[0.19 0.5  0.9 ]\n"
          ]
        },
        {
          "output_type": "execute_result",
          "data": {
            "text/plain": [
              "array([0.1 , 0.19, 0.9 ])"
            ]
          },
          "metadata": {},
          "execution_count": 62
        }
      ]
    },
    {
      "cell_type": "code",
      "metadata": {
        "colab": {
          "base_uri": "https://localhost:8080/"
        },
        "id": "xAwucn2Jlyz8",
        "outputId": "f793bd33-c2c3-4d19-bd81-c43c57a3c79c"
      },
      "source": [
        "#Regresa el array de forma reversa\n",
        "ecoli_matraz[::-1]"
      ],
      "execution_count": null,
      "outputs": [
        {
          "output_type": "execute_result",
          "data": {
            "text/plain": [
              "array([2.3 , 2.1 , 1.8 , 1.4 , 0.9 , 0.5 , 0.19, 0.15, 0.1 ])"
            ]
          },
          "metadata": {},
          "execution_count": 63
        }
      ]
    },
    {
      "cell_type": "markdown",
      "metadata": {
        "id": "wV1uMyGfmGSI"
      },
      "source": [
        "### Acceder al array 2D"
      ]
    },
    {
      "cell_type": "code",
      "metadata": {
        "colab": {
          "base_uri": "https://localhost:8080/"
        },
        "id": "Eq2cy_lomOXD",
        "outputId": "b9176fe4-be70-4c0b-af1e-36420d22f574"
      },
      "source": [
        "print(produccion)\n",
        "\n",
        "print(produccion[2])\n",
        "print(produccion[2:4])\n",
        "\n",
        "# Del 0 al 6 de 2 en 2\n",
        "print(produccion[0:6:2]) \n",
        "\n",
        "#produccion[0:6:2][1] no es igual que produccion[0:6:2, 1] *"
      ],
      "execution_count": null,
      "outputs": [
        {
          "output_type": "stream",
          "name": "stdout",
          "text": [
            "[[ 5  3]\n",
            " [11  7]\n",
            " [ 4  9]\n",
            " [ 2  6]]\n",
            "[4 9]\n",
            "[[4 9]\n",
            " [2 6]]\n",
            "[[5 3]\n",
            " [4 9]]\n"
          ]
        }
      ]
    },
    {
      "cell_type": "markdown",
      "metadata": {
        "id": "mA7x9_ImpB0M"
      },
      "source": [
        "### usando '...'\n"
      ]
    },
    {
      "cell_type": "code",
      "metadata": {
        "colab": {
          "base_uri": "https://localhost:8080/"
        },
        "id": "UDjEHDw2pF09",
        "outputId": "135a4887-1d9a-404c-c0e8-abcb9f337939"
      },
      "source": [
        "a_3D = np.array([[[  1,  2,  3],\n",
        "               [ 11, 12, 13]],\n",
        "              [[101, 102, 103],\n",
        "               [1001, 1002, 1003]]])\n",
        "a_3D[1, ...]  "
      ],
      "execution_count": null,
      "outputs": [
        {
          "output_type": "execute_result",
          "data": {
            "text/plain": [
              "array([[ 101,  102,  103],\n",
              "       [1001, 1002, 1003]])"
            ]
          },
          "metadata": {},
          "execution_count": 68
        }
      ]
    },
    {
      "cell_type": "markdown",
      "metadata": {
        "id": "-FD5w-UdpZb8"
      },
      "source": [
        "## Funciones para crear arrays arange y linspace"
      ]
    },
    {
      "cell_type": "code",
      "metadata": {
        "colab": {
          "base_uri": "https://localhost:8080/"
        },
        "id": "Dpe1fqT9pbF3",
        "outputId": "f5c3a6de-c441-49d0-f766-0e9b66d3c94d"
      },
      "source": [
        "np.arange(10)"
      ],
      "execution_count": null,
      "outputs": [
        {
          "output_type": "execute_result",
          "data": {
            "text/plain": [
              "array([0, 1, 2, 3, 4, 5, 6, 7, 8, 9])"
            ]
          },
          "metadata": {},
          "execution_count": 69
        }
      ]
    },
    {
      "cell_type": "code",
      "metadata": {
        "colab": {
          "base_uri": "https://localhost:8080/"
        },
        "id": "BU98AIXwpwSq",
        "outputId": "63232dbf-b87e-4d7c-fb2f-b2b53f054774"
      },
      "source": [
        "#de cuanto en cuanto\n",
        "np.arange(0, 10, 2)"
      ],
      "execution_count": null,
      "outputs": [
        {
          "output_type": "execute_result",
          "data": {
            "text/plain": [
              "array([0, 2, 4, 6, 8])"
            ]
          },
          "metadata": {},
          "execution_count": 70
        }
      ]
    },
    {
      "cell_type": "code",
      "metadata": {
        "colab": {
          "base_uri": "https://localhost:8080/"
        },
        "id": "KIZZFeOUp1S3",
        "outputId": "86aa1172-5a69-4f4b-a06d-30015c959760"
      },
      "source": [
        "#cuantos segmentos\n",
        "np.linspace(0, 8, 5)"
      ],
      "execution_count": null,
      "outputs": [
        {
          "output_type": "execute_result",
          "data": {
            "text/plain": [
              "array([0., 2., 4., 6., 8.])"
            ]
          },
          "metadata": {},
          "execution_count": 71
        }
      ]
    },
    {
      "cell_type": "code",
      "metadata": {
        "colab": {
          "base_uri": "https://localhost:8080/"
        },
        "id": "ZMgJIqeNqGgg",
        "outputId": "1f053ca4-6d88-4106-cea3-dc1c7da56c83"
      },
      "source": [
        "### Random ###\n",
        "\n",
        "np.random.randint(0, 10, 3)"
      ],
      "execution_count": null,
      "outputs": [
        {
          "output_type": "execute_result",
          "data": {
            "text/plain": [
              "array([3, 4, 4])"
            ]
          },
          "metadata": {},
          "execution_count": 72
        }
      ]
    },
    {
      "cell_type": "code",
      "metadata": {
        "colab": {
          "base_uri": "https://localhost:8080/"
        },
        "id": "bMWrpo_LqtVM",
        "outputId": "a52fb019-77a1-402b-c532-1af2c0dd5597"
      },
      "source": [
        "### np.random.rand(3)"
      ],
      "execution_count": null,
      "outputs": [
        {
          "output_type": "execute_result",
          "data": {
            "text/plain": [
              "array([0.33051402, 0.4708511 , 0.86950958])"
            ]
          },
          "metadata": {},
          "execution_count": 73
        }
      ]
    },
    {
      "cell_type": "code",
      "metadata": {
        "colab": {
          "base_uri": "https://localhost:8080/"
        },
        "id": "CbUT6uEGqy5I",
        "outputId": "a3fc3339-49fb-4468-9868-8647acfdc706"
      },
      "source": [
        "### creación de distribuciones)\n",
        "np.random.uniform(1, 10, 3)"
      ],
      "execution_count": null,
      "outputs": [
        {
          "output_type": "execute_result",
          "data": {
            "text/plain": [
              "array([2.22529215, 3.81822238, 7.58317239])"
            ]
          },
          "metadata": {},
          "execution_count": 74
        }
      ]
    },
    {
      "cell_type": "code",
      "metadata": {
        "colab": {
          "base_uri": "https://localhost:8080/"
        },
        "id": "GoTlpjWArK-F",
        "outputId": "8c5ecef5-94a2-46e8-e73d-eacd9cd354bc"
      },
      "source": [
        "np.random.normal(5, 2, 3)"
      ],
      "execution_count": null,
      "outputs": [
        {
          "output_type": "execute_result",
          "data": {
            "text/plain": [
              "array([7.95657453, 5.40279894, 2.77708117])"
            ]
          },
          "metadata": {},
          "execution_count": 75
        }
      ]
    },
    {
      "cell_type": "code",
      "metadata": {
        "colab": {
          "base_uri": "https://localhost:8080/"
        },
        "id": "R-2iYiVQrObY",
        "outputId": "07925839-3ce7-44b5-dd4c-803edcb3944f"
      },
      "source": [
        "np.random.poisson(10, 3)"
      ],
      "execution_count": null,
      "outputs": [
        {
          "output_type": "execute_result",
          "data": {
            "text/plain": [
              "array([10,  9, 10])"
            ]
          },
          "metadata": {},
          "execution_count": 76
        }
      ]
    },
    {
      "cell_type": "markdown",
      "metadata": {
        "id": "Jp114CfErVS0"
      },
      "source": [
        "También podemos: hacer repeticiones, unir, dividir, borrar filas/columnas...\n",
        "\n",
        "Existen diferencias entre arrays y listas (no son iguales)\n"
      ]
    },
    {
      "cell_type": "markdown",
      "metadata": {
        "id": "g4yCZyUGsV6l"
      },
      "source": [
        "# Array estructurado\n",
        "creamos nuestras propias estructuras"
      ]
    },
    {
      "cell_type": "code",
      "metadata": {
        "colab": {
          "base_uri": "https://localhost:8080/"
        },
        "id": "CLzBcKr4sYxM",
        "outputId": "0fa36671-145f-4d2f-e79a-91017c38b540"
      },
      "source": [
        "mascotas = np.array([('Freya', 6, 6.5), ('Senna', 1, 2.5)], \n",
        "                    dtype=[('nombre', (np.str_, 10)), ('edad', np.int32), ('peso', np.float64)])\n",
        "\n",
        "sort_age = np.sort(mascotas, order='edad')\n",
        "sort_name = np.sort(mascotas, order='nombre')\n",
        "\n",
        "sort_age"
      ],
      "execution_count": null,
      "outputs": [
        {
          "output_type": "execute_result",
          "data": {
            "text/plain": [
              "array([('Senna', 1, 2.5), ('Freya', 6, 6.5)],\n",
              "      dtype=[('nombre', '<U10'), ('edad', '<i4'), ('peso', '<f8')])"
            ]
          },
          "metadata": {},
          "execution_count": 81
        }
      ]
    }
  ]
}