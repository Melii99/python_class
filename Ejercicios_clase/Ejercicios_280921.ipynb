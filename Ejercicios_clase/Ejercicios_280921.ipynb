{
  "nbformat": 4,
  "nbformat_minor": 0,
  "metadata": {
    "colab": {
      "name": "Ejercicios_280921.ipynb",
      "provenance": [],
      "collapsed_sections": []
    },
    "kernelspec": {
      "name": "python3",
      "display_name": "Python 3"
    },
    "language_info": {
      "name": "python"
    }
  },
  "cells": [
    {
      "cell_type": "markdown",
      "metadata": {
        "id": "ydZUavqgPlp3"
      },
      "source": [
        "*Recordando: Dentro del archivo PDB tendrémos la estructura de las proteínas. \n",
        "\n",
        "\n",
        "ahora...\n",
        "\n",
        "Podemos acceder a los átomos"
      ]
    },
    {
      "cell_type": "code",
      "metadata": {
        "id": "Rh-u5CmjO6Tr"
      },
      "source": [
        "#Para acceder a los átomos podemos iterar en el objeto residue\n",
        "residue = chain[22]\n",
        "for atom in residue:\n",
        "  print(atom)\n",
        "#También podemos acceder a ellos como diccionario o lista\n",
        "atom = residue['CA']\n",
        "atom = residue.child_list[1]\n",
        "\n",
        "#También podemos ver la información de su posición 3D\n",
        "at_1.coord"
      ],
      "execution_count": null,
      "outputs": []
    },
    {
      "cell_type": "code",
      "metadata": {
        "id": "GJ6h5GyoTM8c"
      },
      "source": [
        "#Para los Átomos\n",
        "\n",
        "residue = chain[22]\n",
        "print(residue.get_resname())\n",
        "\n",
        "for atom in residue:\n",
        "  print(atom)\n",
        "\n",
        "atom_ca = residue['CB']\n",
        "\n",
        "print(atom_ca)\n",
        "#coordenadas del átomo\n",
        "print(atom_ca.coord)\n",
        "#elemento que representa\n",
        "print(atom_ca.element)\n",
        "#id\n",
        "print(atom_ca.id)\n"
      ],
      "execution_count": null,
      "outputs": []
    },
    {
      "cell_type": "markdown",
      "metadata": {
        "id": "mg3KOzANU4Kx"
      },
      "source": [
        "Otros métodos para obtener a los \"child\"\n"
      ]
    },
    {
      "cell_type": "code",
      "metadata": {
        "id": "QtFA00YkVHf2"
      },
      "source": [
        "chainss = model.get_chains()\n",
        "prnt(*chainss)\n",
        "\n",
        "residuess = chain.get_residues()\n",
        "print(*residuess)\n",
        "\n",
        "atomss = residue.get_atoms()\n",
        "for atom in atomss:\n",
        "  print(atom)\n",
        "  "
      ],
      "execution_count": null,
      "outputs": []
    },
    {
      "cell_type": "markdown",
      "metadata": {
        "id": "5wwwlSksVs3t"
      },
      "source": [
        "## Ejercicio 3\n",
        "Imprime los elementos y los ids de los átomos del primer residuo de cisteína que tenemos en la lista cys_A para conocer el id del elemento s"
      ]
    },
    {
      "cell_type": "code",
      "metadata": {
        "id": "WSY62r0kWGRv"
      },
      "source": [
        "# Retomando la lista de cisteinas que ya hicimos\n",
        "cisteinas = []\n",
        "\n",
        "for modelo in obj_struc:\n",
        "  for chain in modelo:\n",
        "    # Tipo de cadena - .id\n",
        "    if chain.id =='A':\n",
        "      for residuo in chain:\n",
        "        # Aminoácido - .get_resname() \n",
        "        if residuo.get_resname() == 'CYS':\n",
        "          cisteinas.append(residuo)\n",
        "\n",
        "print(len(cisteinas))\n",
        "\n",
        "#Ejercicio 3\n",
        "for atom in cisteinas[0]:\n",
        "  print(atom.element, atom.id)\n"
      ],
      "execution_count": null,
      "outputs": []
    },
    {
      "cell_type": "markdown",
      "metadata": {
        "id": "P8ckSDssX4Dr"
      },
      "source": [
        "También podemos ver la distancia entre átomos restando:"
      ]
    },
    {
      "cell_type": "code",
      "metadata": {
        "id": "xdeDBrcvYJLC"
      },
      "source": [
        "atomo_cb = residue['CB']\n",
        "atomo_ca = residue['CA']\n",
        "\n",
        "atomo_cb - atomo_ca"
      ],
      "execution_count": null,
      "outputs": []
    },
    {
      "cell_type": "markdown",
      "metadata": {
        "id": "3-_aU1MaYaIK"
      },
      "source": [
        "## Ejercicio 4\n",
        "Calcular la distancia de todos los átomos de s para encontrar los que estan cerca.\n",
        "\n",
        "calcular las distancias de los átomos s de las cisteínas de la lista cys_A.\n",
        "Guardar los pares de cisteínas de aquellos que tengan una distancia menor a 8 A."
      ]
    },
    {
      "cell_type": "code",
      "metadata": {
        "id": "BNtxCapzZXjX"
      },
      "source": [
        "for cist_1 in cisteinas:\n",
        "  for cist_2 in cisteinas:\n",
        "    #Condición para no comparase consigo misma\n",
        "    if cist_1 != cist_2:\n",
        "\n",
        "      if(cist_1['SG'] - cist_2['SG'])  < 8:\n",
        "        #coordenadas de los átomos\n",
        "        print(cist_1['SG'].coord, cist_2['SG'].coord)\n",
        "        #pares de ID de los residuos\n",
        "        print(cist_1.id, cist_2.id)\n"
      ],
      "execution_count": null,
      "outputs": []
    },
    {
      "cell_type": "markdown",
      "metadata": {
        "id": "pQSt-62ebheK"
      },
      "source": [
        "## Otros formatos que se pueden trabajar:\n",
        "* Fasta\n",
        "* Fastq\n",
        "* SFF\n",
        "* GenBank\n",
        "* PDB\n",
        "* PQR\n",
        "* CIF\n",
        "* Outputs de BLAST\n",
        "* Alineamientos"
      ]
    },
    {
      "cell_type": "markdown",
      "metadata": {
        "id": "-bIt7Hw7cA_x"
      },
      "source": [
        "# BASES DE DATOS\n",
        "\n",
        "Inicios de las bases de datos\n",
        "\n",
        "(1965) Atlas of Protein Sequence and Structure - Secuencias (+/- 70 proteínas con alineamientos y referencias de las secuencias)\n",
        "* Busqueda manual en publicaciónes\n",
        "* Verificación de secuencias\n",
        "\n",
        "Diferentes propuestas para bases de datos:\n",
        "* Propuesta Dayhoff (copyright)\n",
        "* Propuesta Goad (conocimiento público)\n",
        "\n",
        "--- \n",
        "\n",
        "EMBL (1980)\n",
        "\n",
        "1981- Primer repositorio central de secuencias open acces\n",
        "\n",
        "Los Álamos (precursor de genebank):\n",
        "coperación internacional  EMBL y DDBJ\n",
        "\n",
        "NCBI 1990-1999\n",
        "\n",
        "**COLABORACIÓN INTERNACIONAL**\n",
        "INSD (DDBJ - NCBI - ENA/EBI)\n",
        "\n",
        "*principios FAIR (estandarización)\n"
      ]
    },
    {
      "cell_type": "markdown",
      "metadata": {
        "id": "IHQzjEvrhuVN"
      },
      "source": [
        "# Entrez\n",
        "E-utilities de NCBI\n",
        "\n",
        "Interacción entre bases de datos desde la web \n",
        "\n",
        "**Para trbajos muy grandes podemos automatizar**\n",
        "\n",
        "---\n",
        "URL -> E-utilities -> fasta,xml,...\n",
        "\n",
        "---\n",
        "Existen diferentes posibles pipelines a seguir\n",
        "\n",
        "**NCBI tiene limitaciones:**\n",
        "\n",
        "Para usar e-utilities \n",
        "\n",
        "* Máx 3 request x segundo (upgrade a 10 con llave API)\n",
        "* Anexar correo !"
      ]
    },
    {
      "cell_type": "markdown",
      "metadata": {
        "id": "xzPXMu7AsbLU"
      },
      "source": [
        "### Entrez.einfo y Entrez.read"
      ]
    },
    {
      "cell_type": "code",
      "metadata": {
        "id": "OadFkMjBka-a"
      },
      "source": [
        "### Einfo ###\n",
        "\n",
        "from Bio import Entrez\n",
        "#mejor visualización de diccionrios\n",
        "from pprint import pprint \n",
        "#Correo \n",
        "Entrez.emali = \"mmayen@lcg.unam.mx\"\n",
        "#Handle\n",
        "handle = Entrez.einfo()\n",
        "record = Entrez.read(handle)\n",
        "handle.close()\n",
        "#revisar qué hay en einfo\n",
        "print(result)\n"
      ],
      "execution_count": null,
      "outputs": []
    },
    {
      "cell_type": "code",
      "metadata": {
        "id": "PSg895LJlsHa"
      },
      "source": [
        "### Entrez.read ###\n",
        "\n",
        "handle = Entrez.einfo()\n",
        "record = Entrez.read(handle)\n",
        "#obtenemos diccionario (llave \"Dblist\")\n",
        "print(record['Dblist'][0:3])  #Imprime primeras 3 bases de daos\n",
        "handle.close()  #cerrar handle"
      ],
      "execution_count": null,
      "outputs": []
    },
    {
      "cell_type": "code",
      "metadata": {
        "id": "1tUzjJCgmfSI"
      },
      "source": [
        "# Para obtener información de genome\n",
        "\n",
        "from Bio import Entrez\n",
        "Entrez.email = \"mmayen@lcg.unam.mx\"\n",
        "\n",
        "# db = base de datos de interés\n",
        "handle = Entrez.einfo(db=\"genome\")  \n",
        "record = Entrez.read(handle)\n",
        "#Descripción\n",
        "print(record['DbInfo']['Description'])\n",
        "print(record['DbInfo']['FieldList'])\n",
        "#URL accesado para la búsqueda\n",
        "print(handle.url)\n"
      ],
      "execution_count": null,
      "outputs": []
    },
    {
      "cell_type": "code",
      "metadata": {
        "id": "2Yidq7pIo3FR"
      },
      "source": [
        "#Si quiesiéramos conocer todos los campos a los que podemos accesar (pubmed)\n",
        "# podemos imprimir todos \n",
        "for field in record['DbInfo']['FieldList']:\n",
        "  print(\"%(Name)s, %(FullName)s, %(Description)s\" %field)"
      ],
      "execution_count": null,
      "outputs": []
    },
    {
      "cell_type": "markdown",
      "metadata": {
        "id": "CZm-Axl6qY7r"
      },
      "source": [
        "## Ejercicio 1\n",
        "Usando Entrez.einfo y Entrez.read imprimir la descripción de 2 campos de genome\n",
        "\n"
      ]
    },
    {
      "cell_type": "code",
      "metadata": {
        "id": "gf6ceRbWqtay"
      },
      "source": [
        "from Bio import Entrez\n",
        "Entrez.email = \"mmayen@lcg.unam.mx\"\n",
        "\n",
        "handle = Entrez.einfo(db=\"genome\")  \n",
        "record = Entrez.read(handle)\n",
        "\n",
        "i =-1\n",
        "for field in record['DbInfo']['FieldList']:\n",
        "  i += 1\n",
        "  if field['Namme'] == \"ORGN\":\n",
        "    print(field['Name'], field['Description'])\n",
        "\n",
        "#Accediendo a la posición 4 (organismo)\n",
        "print(record['DbInfo']['FieldList'][3]['Description'])"
      ],
      "execution_count": null,
      "outputs": []
    },
    {
      "cell_type": "markdown",
      "metadata": {
        "id": "8bSYAy5vskWv"
      },
      "source": [
        "### Entrez.esearch\n",
        "\n",
        "Entrez.esearch(base de datos a buscar, término)\n"
      ]
    },
    {
      "cell_type": "code",
      "metadata": {
        "id": "XWI0NGaGmZC3"
      },
      "source": [
        "#Buscar el término \"biopython\" en PubMed\n",
        "\n",
        "handle = Entrez.esearch(db=\"pubmed\", term=\"biopython\")\n",
        "record = Entrez.read(handle)\n",
        "#checar cuántos resultados obtenemos con record[\"Count\"]\n",
        "record[\"Count\"]\n",
        "#cerrar handle\n",
        "handle.close() "
      ],
      "execution_count": null,
      "outputs": []
    },
    {
      "cell_type": "markdown",
      "metadata": {
        "id": "W7s0KkUan-lr"
      },
      "source": [
        "## retmax\n",
        "Es un parámetro dentro de la búsqueda que indica el máximo  de retrieves (default 20)\n",
        "\n",
        "Podemos modificarlo según querramos (en este caso para obtener todos los resultados encontrados)"
      ]
    },
    {
      "cell_type": "code",
      "metadata": {
        "id": "NVWTt0OloX2T"
      },
      "source": [
        "#Obtenemos el tamaño de count\n",
        "count = int(record[\"Count\"])\n",
        "\n",
        "handle = Entrez.esearch(db=\"pubmed\", term=\"biopython\", retmax=count)\n",
        "record = Entrez.read(handle)\n",
        "#cerrar handle\n",
        "handle.close() \n",
        "#Ahora la longitud de IdList es de 35, igual que el tamaño de count\n",
        "len(record[\"IdList\"])  "
      ],
      "execution_count": null,
      "outputs": []
    },
    {
      "cell_type": "markdown",
      "metadata": {
        "id": "V_CRrpUMqJ3z"
      },
      "source": [
        "## Ejercicio: buscando por autor\n"
      ]
    },
    {
      "cell_type": "code",
      "metadata": {
        "id": "Whf1rijiqVM1"
      },
      "source": [
        "#Usamos el parámetro field=\"AUTH\"\n",
        "handle = Entrez.esearch(db=\"pubmed\", term=\"Valeria Mateo-Estrada\", field=\"AUTH\")\n",
        "record = Entrez.read(handle)\n",
        "\n",
        "#cerrar handle\n",
        "handle.close()\n",
        "#Obtenemos os IDs\n",
        "record[\"IdList\"] "
      ],
      "execution_count": null,
      "outputs": []
    },
    {
      "cell_type": "markdown",
      "metadata": {
        "id": "tPrwblb6s7_T"
      },
      "source": [
        "## Usando operadores booleanos\n",
        "Podemos usarlos para realizar búsquedas con mayor especificidad\n",
        "\n",
        "\n",
        "```\n",
        "# Buscando el gen1 o el gen2 del organismo 1\n",
        "Organismo1[Orgn] AND (gene1[Gene] OR gene2[Gene])\n",
        "```\n",
        "\n"
      ]
    },
    {
      "cell_type": "code",
      "metadata": {
        "id": "Cs9CpKfLuy5d"
      },
      "source": [
        "#Ejemplo de búsqueda compleja\n",
        "termino = (Aedes[Title] OR Aedes[All Fields]) AND ((RNA.Seq[Title] OR transcriptome[Title]) OR (transcriptome[Title] OR sequencing[Title]))"
      ],
      "execution_count": null,
      "outputs": []
    }
  ]
}