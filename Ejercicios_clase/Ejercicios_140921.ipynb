{
  "nbformat": 4,
  "nbformat_minor": 0,
  "metadata": {
    "colab": {
      "name": "Ejercicios_140921.ipynb",
      "provenance": [],
      "collapsed_sections": [],
      "authorship_tag": "ABX9TyM+Fpbz9Fm2MMVzK6AE/mep"
    },
    "kernelspec": {
      "name": "python3",
      "display_name": "Python 3"
    },
    "language_info": {
      "name": "python"
    }
  },
  "cells": [
    {
      "cell_type": "markdown",
      "metadata": {
        "id": "AoU3oUfFRhBt"
      },
      "source": [
        "##Transcriptómica\n",
        "Algunos conceptos clave...\n",
        "\n",
        "* RNA seq:\n",
        "\n",
        "  paired -> fragmentos largos\n",
        "  \n",
        "  unnpaired -> fragmentos más cortos, mayor costo computacional\n",
        "\n",
        "* FASTQ: (Fastqc) cálidad de las secuencias, archivos arrojados por secuenciación\n",
        "\n",
        "* GeneBank: base de datos, IDs\n",
        "\n",
        "Es importante realizar controles de calidad para obtener información confiable!\n",
        "\n",
        "Ya teniendo nuestra información \"limpia\", realizar alineamientos BLAST "
      ]
    },
    {
      "cell_type": "markdown",
      "metadata": {
        "id": "dyMkqmmoaYV5"
      },
      "source": [
        "## SeqIO - Objetos SeqRecord\n",
        "\n",
        "Manejando Seq Record\n",
        "\n",
        "Los atributos principales son :\n",
        "* ID: (cadena) objeto.id\n",
        "* seq: (objeto Seq o similar) objeto.seq\n",
        "* Puede haber atributos adicionales (como nombre, descripción, dbxrefs,features, annotations...)\n",
        "\n",
        "\n",
        "*SeqIO.parse(archivo, formato)* : método que nos permite parsear un archivo (genera un objeto SeqRecord), permite la iteración por cada registro\n",
        "\n",
        "*record.letter_annotations[\"phred_quality\"]* : método que nos arroja el phred score (cambiamos de ASCI a valores numéricos)\n"
      ]
    },
    {
      "cell_type": "code",
      "metadata": {
        "id": "b9UcIu46Q614"
      },
      "source": [
        "#Manejo de archivos FASTQ\n",
        "from Bio import SeqIO\n",
        "\n",
        "path=\"files/sample.fastq\"\n",
        "#guardar IDs de records bajo umbral\n",
        "mala_calidad = []\n",
        "umbral = 40\n",
        "for record in SeqIO.parse(path, \"fastq\"): \n",
        "    promedio = sum(record.letter_annotations[\"phred_quality\"]) / len(record.letter_annotations[\"phred_quality\"])\n",
        "    if (promedio < umbral):\n",
        "        mala_calidad.append((promedio, record.id))\n"
      ],
      "execution_count": null,
      "outputs": []
    },
    {
      "cell_type": "markdown",
      "metadata": {
        "id": "lmnjBZJ-clhW"
      },
      "source": [
        "## GenBank annotations\n",
        "Metadatos: Información detallada sobre el organismo, referencias a otras bases de datos, publicaciones, etc.\n",
        "\n",
        "* Metadatos: Organismo, versión, fecha...\n",
        "* Features: Source (organismo, aislado, país), Gen, CDS...\n",
        "* Origin: secuencia de la que provienen los datos\n",
        "\n",
        "---\n",
        "\n",
        "Manejando nuestros archivos con SeqIO - Los datos estarán guardados en diccionarios"
      ]
    },
    {
      "cell_type": "code",
      "metadata": {
        "id": "6av5tBbwcmI_"
      },
      "source": [
        "from Bio import SeqIO\n",
        "\n",
        "for gb_record in SeqIO.parse(\"./files/clase_2/aichi.gb\", \"genbank\"):\n",
        "    print('ID', gb_record.id)\n",
        "    print('Secuencia', str(gb_record.seq)[0:30],'...')\n",
        "    print('Longitud', len(gb_record))\n",
        "    \n",
        "# Accediendo a los metadatos (diccionario)\n",
        "for annotation, value in gb_record.annotations.items:\n",
        "  print(annotation, value)\n",
        "\n",
        "print(gb_record.annotations['date'])\n"
      ],
      "execution_count": null,
      "outputs": []
    },
    {
      "cell_type": "markdown",
      "metadata": {
        "id": "6_ka_Avjfbyc"
      },
      "source": [
        "### Ejercicio\n",
        "Utilizando el archivo virus.gb obtener de qué organismo viene y la versión"
      ]
    },
    {
      "cell_type": "code",
      "metadata": {
        "id": "xMGuz41OiCy4"
      },
      "source": [
        "from Bio import Se\n",
        "\n",
        "path = \"./files/clase_2/virus.gb\"\n",
        "\n",
        "for gb_record in SeqIO.parse(path, \"genebank\"):\n",
        "  print('ID', gb_record.id)\n",
        "\n",
        "print(gb_record.annotations)\n",
        "\n",
        "# Obteniendo metadatos\n",
        "version = gb_record.annotations['sequence_version']\n",
        "organismo = gb_record.annotations['organism']\n"
      ],
      "execution_count": null,
      "outputs": []
    },
    {
      "cell_type": "markdown",
      "metadata": {
        "id": "3Rv759pplMYv"
      },
      "source": [
        "## Accediendo a la información - Features\n",
        "Features contiene una lista de los genes y los productos\n",
        "\n",
        "  Dentro de la lista hay objetos \"SeqFeature\": [Source, CDS, Gene...]\n",
        "\n",
        "Cada SeqFeature tiene \"atributos\":\n",
        "* location\n",
        "* type\n",
        "* qualifiers\n",
        "\n",
        "Cada uno de estos atributos pueden tener:\n",
        "* objetos\n",
        "* diccionarios\n",
        "* cadenas...\n"
      ]
    },
    {
      "cell_type": "code",
      "metadata": {
        "id": "nBZKfhWpm8V1"
      },
      "source": [
        "#Accediendo a features\n",
        "f_source = gb_record.features[0]\n",
        "f_cds = gb_record.features[1]\n",
        "\n",
        "print(f_source.location)\n",
        "print(f_source.type)\n",
        "print(f_source.qualifiers)\n",
        "\n",
        "print(f_source.qualifiers['organism'])\n",
        "\n",
        "print(f_source.qualifiers['collection_date'])\n",
        "\n",
        "print(f_cds.qualifiers['codon_start'])\n"
      ],
      "execution_count": null,
      "outputs": []
    },
    {
      "cell_type": "markdown",
      "metadata": {
        "id": "wMzLxNcOnWWr"
      },
      "source": [
        "### Ejercicio\n",
        "Obtener información de features\n",
        "\n",
        "Utilizando el archivo virus.gb obtener la fuente del aislado y el país de donde proviene"
      ]
    },
    {
      "cell_type": "code",
      "metadata": {
        "id": "dQhfLV8OntgT"
      },
      "source": [
        "from Bio import Seq\n",
        "\n",
        "path = \"./files/clase_2/virus.gb\"\n",
        "for gb_record in SeqIO.parse(path, \"genebank\"):\n",
        "  print('ID', gb_record.id)\n",
        "\n",
        "fuente_aislado = gb_record.features[0].qualifiers['isolation_source']\n",
        "pais = gb_record.features[0].qualifiers['country']\n",
        "\n",
        "# Extra - Por cada feature (cds, source, gene) busco aquellos cuyo tipo sea gene\n",
        "for feature in gb_record.features:\n",
        "    if feature.type == \"gene\":\n",
        "        print(feature)\n"
      ],
      "execution_count": null,
      "outputs": []
    }
  ]
}