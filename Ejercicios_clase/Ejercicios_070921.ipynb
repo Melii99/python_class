{
  "nbformat": 4,
  "nbformat_minor": 0,
  "metadata": {
    "colab": {
      "name": "Ejercicios_070921.ipynb",
      "provenance": [],
      "collapsed_sections": [],
      "authorship_tag": "ABX9TyOzH5JSIddbAnz6m6eng4b7"
    },
    "kernelspec": {
      "name": "python3",
      "display_name": "Python 3"
    },
    "language_info": {
      "name": "python"
    }
  },
  "cells": [
    {
      "cell_type": "markdown",
      "metadata": {
        "id": "c-uZEnzAVFUO"
      },
      "source": [
        "# Dentro de Bio tenemos muchas cosas disponibles\n",
        "## Para trabajar con secuencias:"
      ]
    },
    {
      "cell_type": "code",
      "metadata": {
        "id": "fH8c9wctZeZZ"
      },
      "source": [
        "# import Bio.seq (lo importamos con el nombre de Seq)\n",
        "from Bio.seq import Seq\n",
        "from Bio.seq import MutableSeq"
      ],
      "execution_count": null,
      "outputs": []
    },
    {
      "cell_type": "code",
      "metadata": {
        "id": "AOj0I1FoQ7CN"
      },
      "source": [
        "seqobj = Seq(\"ATCGTG\")\n",
        "print(str(seqonj))\n",
        "#Podemos rabajar con secuencias...\n",
        "\n",
        "mutable = MutableSeq(seqobj)\n",
        "mutable[0] = \"n\"\n",
        "\n",
        "print(seqobj.complement())  #complementaria\n",
        "print(seqobj.reverse_complement()) #reversa complementaria\n",
        "print(seqobj.translate(to_stop = True)) #codón de paro \n",
        "rna = seqobj.transcribe() #transcripciontranscripción \n",
        "print(rna.back_transcribe())\n",
        "print(seqobj[0:3]) #secuancia parcial\n"
      ],
      "execution_count": null,
      "outputs": []
    },
    {
      "cell_type": "code",
      "metadata": {
        "id": "s23Ghj9OTLmx"
      },
      "source": [
        "import re\n",
        "# expresiones regulares\n",
        "for codon in re.findall(r\"(,{3})\", str(seqobj)):\n",
        "  print(codon)"
      ],
      "execution_count": null,
      "outputs": []
    },
    {
      "cell_type": "code",
      "metadata": {
        "id": "EKXsN7KVTnIz"
      },
      "source": [
        "from Bio import SeqUtils\n",
        "from Bio.SeqUtils import nt_search, GC, molecular_weight \n",
        "\n",
        "patron = Seq(\"ACG\")\n",
        "sequence = Seq(\"ATGCCCGTAGCTAGATCG\")\n",
        "#nt_search permite la búsqueda de un patrón dentro de una secuencia\n",
        "resultados = nt_search(str(sequence), patron)  \n",
        "print(resultado)\n",
        "\n",
        "patron = Seq(\"ACG\")\n",
        "sequence = Seq(\"ATGCCCGTAGCTAGATCG\")\n",
        "resultados = nt_search(str(sequence), patron.reverse_complement())\n",
        "print(resultado)\n",
        "\n",
        "print(GC(sequence))\n",
        "print(molecular_weight(sequence))"
      ],
      "execution_count": null,
      "outputs": []
    },
    {
      "cell_type": "markdown",
      "metadata": {
        "id": "TSA-bNUIZ6u0"
      },
      "source": [
        "## Para trabajar con archivos de texto (Fasta):"
      ]
    },
    {
      "cell_type": "code",
      "metadata": {
        "id": "rF1fE-nbaC2T"
      },
      "source": [
        "from Bio import_SeqIO\n",
        "filenames = \"files/seq.nt.fa\"  #ubicación del archivo\n",
        "\n",
        "# Revisa cada seqrecords del archivo filename\n",
        "for seq_record in SeqIO.parse(filename, \"fasta\"):\n",
        "  print(\"IO {}\".format(seq_record.id))\n",
        "  print(\"len {}\".format(len(seq_record)))\n",
        "  print(\"Traduccion {}\".format(seq_record.seq.translate(to_stop=True)))\n",
        "\n",
        "# Leer archivo en diccionario\n",
        "id_dict = SeqIO.to_dict(SeqIO.parse(filename,\"fasta\"))\n",
        "print(id_dict[\"seq4\"].seq.transcribe())"
      ],
      "execution_count": null,
      "outputs": []
    },
    {
      "cell_type": "markdown",
      "metadata": {
        "id": "xHI772TLVZGM"
      },
      "source": [
        "# Ejercicio 1\n",
        "Obtener cadena protéica de cualquiera de sus ORFs"
      ]
    },
    {
      "cell_type": "code",
      "metadata": {
        "id": "g1SLzziEVxuO"
      },
      "source": [
        "from Bio.seq import Seq\n",
        "\n",
        "sequence = \"AGCCATGTAGCTAACTCAGGTTACATGGGGATGACCCCGCGACTTGGATTAGAGTCTCTTTTGGAATAAGCCTGAATGATCCGAGTAGCATCTCAG\"\n",
        "inicio = Seq(\"ATG\")\n",
        "posicion = nt_search(str(sequence), inicio)\n",
        "\n",
        "for i in range(1,len(posicion)):\n",
        "  proteina = sec_prot.translate(to_stop=True)\n",
        "  print(proteina)"
      ],
      "execution_count": null,
      "outputs": []
    },
    {
      "cell_type": "markdown",
      "metadata": {
        "id": "GOL2mjStceQX"
      },
      "source": [
        "# Ejercicio 2\n",
        "Inmprimir codones (separados por un espacio) de cada secuencia en formato FASTA.ARCHIVO\n",
        "\n",
        "*   Crea diccionario de tu archivo FASTA\n",
        "*   Encuentra todos los codones del primer marco de lectura\n",
        "*   Imprimir los codones separados con formato FASTA\n",
        "\n",
        "\n"
      ]
    },
    {
      "cell_type": "code",
      "metadata": {
        "id": "llur99MLdLCL"
      },
      "source": [
        "\n",
        "filenames = \"files/seq.nt.fa\" \n",
        "id_dict = SeqIO.to_dict(SeqIO.parse(filename,\"fasta\"))\n",
        "\n",
        "for i in id_dict:\n",
        "  print(\">{}\".format(i))\n",
        "  # Secuencia a modificar\n",
        "  sec = id_dict[i].seq\n",
        "  for codon in re.findall(r\".{3}\",str(sec[1:len(sec)])):\n",
        "    print(codon, end=\"\\t\")\n",
        "  print(\"\\n\")\n",
        "\n",
        "  id_list = list(SeqIO.parse(filename,\"fasta\"))\n",
        "  print(id_list[-1].seq)\n",
        "\n",
        "  # Archivos grandes\n",
        "  record_dict = SeqIO.index(filename,\"fasta\")\n",
        "  print(record_dict[\"seq1\"])\n",
        "  sq_ids = [\"seq2\", \"seq1\"]\n",
        "\n",
        "  with open(\"files/filtrado.fasta\",\"w\") as out_handle:\n",
        "    from record in SeqIO.parse(filename,\"fasta\"):\n",
        "      if record.id in seq_ids:\n",
        "        SeqIO.write(record,out_handle,\"fasta\")\n",
        "\n",
        "# Leer archivo fastq\n",
        "n=0\n",
        "for record in SeqIO.parse(\"files/sample.fastq\", \"fastq\"):\n",
        "  if n < 2:\n",
        "    print(\"%s %s\" % (record.seq))\n",
        "    n += 1\n",
        "  else: break\n",
        "\n",
        "  print(record.letter_annotations[\"phred_quality\"])\n",
        "  "
      ],
      "execution_count": null,
      "outputs": []
    },
    {
      "cell_type": "markdown",
      "metadata": {
        "id": "pMtllCB0lDID"
      },
      "source": [
        "# Ejercicio 3\n"
      ]
    },
    {
      "cell_type": "code",
      "metadata": {
        "id": "txUxJxYplIKV"
      },
      "source": [
        "path = \"files/sample.fastq\"\n",
        "\n",
        "for record in SeqIO.parse(path,\"fastq\"):\n",
        "  promedio = sum(record.letter_annotations[\"phred_quality\"]) / len(record.letter_annotations[\"phred_quality\"])\n",
        "  if (promedio < umbral):\n",
        "    temp = (promedio,record.id)\n",
        "    mala_calidad.append(temp)\n",
        "priny(\"{} secuencias con promedio menor al umbral: {}\\n\".format(len(mala_calidad,umbral)))"
      ],
      "execution_count": null,
      "outputs": []
    }
  ]
}