{
  "nbformat": 4,
  "nbformat_minor": 0,
  "metadata": {
    "colab": {
      "name": "Ejercicios_210921.ipynb",
      "provenance": [],
      "collapsed_sections": [],
      "authorship_tag": "ABX9TyNGx68c7Sqz771XkvklqK8p"
    },
    "kernelspec": {
      "name": "python3",
      "display_name": "Python 3"
    },
    "language_info": {
      "name": "python"
    }
  },
  "cells": [
    {
      "cell_type": "markdown",
      "metadata": {
        "id": "Ta6uUqUXZyp7"
      },
      "source": [
        "# Estructura 3D proteínas\n",
        "\n",
        "Importancia:\n",
        "\n",
        "* Controlar/modificar funciones \n",
        "* Predecir uniones e interacciones biológicas\n",
        "* Descubrimiento de fármacos \n",
        "* Diseño de nuevas protínas\n",
        "\n",
        "Contexto biológico: Importancia de los puentes disulfuro (SS) para el funcionamiento de proteínas\n",
        "\n",
        "### Fenómenos de ondas\n",
        "* **Difracción**: desviación de ondas al rededor de las esquinas de un obstáculo a través de una abertura de **diámetro menor o igual a la longitud de onda**\n",
        "\n",
        "---\n",
        "###Longitudes de onda\n",
        "\n",
        "Rayos gamma 10 x 10**-12 (pico)\n",
        "\n",
        "Rayos X 10 x 10**-9 (nano) \n",
        "\n",
        "Infrarrojo 2.5 x 10**-6 (micro)\n",
        "\n",
        "---\n",
        "## Cristalografía\n",
        "Creación de cristales de proteínas - Con ayuda de Rayos X obtenemos el patrón de difracción y la posición de las nubes de electrones\n",
        "\n",
        "Átomos comunes en proteínas:\n",
        "\n",
        "* Hidrógeno no suele aparecer (sólo tiene un electrón y es fácil robarlo)\n",
        "* Elementos con muchos electrons son vistos con facilidad\n",
        "* Son observables los enlaces peptídicos (presentan resonancia)\n",
        "* El cobre se ve muy bien\n",
        "\n",
        "Aminoácidos con mayor resonancia -> Aromáticos "
      ]
    },
    {
      "cell_type": "markdown",
      "metadata": {
        "id": "eay0rjPOgr5X"
      },
      "source": [
        "# Protein Databank (PDB)\n",
        "Base de datos de la estructura tridimensional de proteínas y ácidos nucléicos.\n",
        "Es de dominio público.\n",
        "\n",
        "## Archivos PDB:\n",
        "* Metadatos\n",
        "* Información estadística\n",
        "* Información estructural\n",
        "\n",
        "**En BIOPYTHON creamos objetos STRUCTURE**\n",
        "\n",
        "Objeto Structure - sigue el formato SMCRA \n",
        "Consiste en : (Structure/Model/Chain/Residue/- Atoms)\n",
        "\n",
        "*Sobreposición de modelos"
      ]
    },
    {
      "cell_type": "code",
      "metadata": {
        "id": "h3wE_SydYJuo"
      },
      "source": [
        "### Obteniendo un objeto structure ###\n",
        "\n",
        "From Bio import PDB\n",
        "PARSER = PDB.PDBParser(QUIET=True)  \n",
        "\n",
        "#Uamos el método get_structure para obtener el obeto structure desde un archivo\n",
        "obj_struc = parser.get_structure(\"nombre\", \"archivo.pdb\")\n",
        "\n",
        "#Podemos ver cuántos modelos ha en el obeto structure con child_dict o child_list\n",
        "struc.child_dict  \n",
        "struc.child_list\n",
        "\n",
        "#Podemos acceder a los metadatos con el atributo header\n",
        "struc.header.keys()\n",
        "#Accediendo a los metadatos (con la llave de diccionaro)\n",
        "srtuc.header['structure_method']\n"
      ],
      "execution_count": null,
      "outputs": []
    },
    {
      "cell_type": "code",
      "metadata": {
        "colab": {
          "base_uri": "https://localhost:8080/"
        },
        "id": "KZvW5CEkkxjD",
        "outputId": "06bbe8d1-12c3-4d42-8993-987757107ace"
      },
      "source": [
        "from Bio import PDB\n",
        "parser = PDB.PDBParser(QUIET=True)\n",
        "\n",
        "struc = parser.get_structure(\"prot_1fat\",\"/content/1fat.pdb\")\n",
        "\n",
        "struc.child_dict"
      ],
      "execution_count": 6,
      "outputs": [
        {
          "output_type": "execute_result",
          "data": {
            "text/plain": [
              "{0: <Model id=0>}"
            ]
          },
          "metadata": {},
          "execution_count": 6
        }
      ]
    },
    {
      "cell_type": "code",
      "metadata": {
        "colab": {
          "base_uri": "https://localhost:8080/"
        },
        "id": "uvk07Xkql7QK",
        "outputId": "53d9114e-d592-46f8-df4f-3992cabe3fc6"
      },
      "source": [
        "struc.child_list"
      ],
      "execution_count": 7,
      "outputs": [
        {
          "output_type": "execute_result",
          "data": {
            "text/plain": [
              "[<Model id=0>]"
            ]
          },
          "metadata": {},
          "execution_count": 7
        }
      ]
    },
    {
      "cell_type": "code",
      "metadata": {
        "colab": {
          "base_uri": "https://localhost:8080/"
        },
        "id": "YlTC09DtmOJx",
        "outputId": "19af8498-8a36-4634-8830-55acd02f21e7"
      },
      "source": [
        "struc.header.keys()"
      ],
      "execution_count": 8,
      "outputs": [
        {
          "output_type": "execute_result",
          "data": {
            "text/plain": [
              "dict_keys(['name', 'head', 'idcode', 'deposition_date', 'release_date', 'structure_method', 'resolution', 'structure_reference', 'journal_reference', 'author', 'compound', 'source', 'has_missing_residues', 'missing_residues', 'keywords', 'journal'])"
            ]
          },
          "metadata": {},
          "execution_count": 8
        }
      ]
    },
    {
      "cell_type": "code",
      "metadata": {
        "colab": {
          "base_uri": "https://localhost:8080/",
          "height": 35
        },
        "id": "dpzNlLqKmTL8",
        "outputId": "45df9785-0148-49bd-aa46-11b151b6b50b"
      },
      "source": [
        "struc.header['structure_method']"
      ],
      "execution_count": 9,
      "outputs": [
        {
          "output_type": "execute_result",
          "data": {
            "application/vnd.google.colaboratory.intrinsic+json": {
              "type": "string"
            },
            "text/plain": [
              "'x-ray diffraction'"
            ]
          },
          "metadata": {},
          "execution_count": 9
        }
      ]
    },
    {
      "cell_type": "code",
      "metadata": {
        "colab": {
          "base_uri": "https://localhost:8080/"
        },
        "id": "zwaNSa3dmZiu",
        "outputId": "7ce73750-272f-46e2-d00e-bfdce5a997a9"
      },
      "source": [
        "struc.header['resolution']"
      ],
      "execution_count": 11,
      "outputs": [
        {
          "output_type": "execute_result",
          "data": {
            "text/plain": [
              "2.8"
            ]
          },
          "metadata": {},
          "execution_count": 11
        }
      ]
    },
    {
      "cell_type": "code",
      "metadata": {
        "colab": {
          "base_uri": "https://localhost:8080/"
        },
        "id": "gmhQlbvgmu4T",
        "outputId": "6587bdf0-e6a4-4e4c-e6ee-8082107e717f"
      },
      "source": [
        "struc.header['source']"
      ],
      "execution_count": 12,
      "outputs": [
        {
          "output_type": "execute_result",
          "data": {
            "text/plain": [
              "{'1': {'misc': '',\n",
              "  'organ': 'seed',\n",
              "  'organism_scientific': 'phaseolus vulgaris',\n",
              "  'organism_taxid': '3885',\n",
              "  'other_details': 'purified pha-l was purchased from sigma'}}"
            ]
          },
          "metadata": {},
          "execution_count": 12
        }
      ]
    },
    {
      "cell_type": "code",
      "metadata": {
        "colab": {
          "base_uri": "https://localhost:8080/",
          "height": 54
        },
        "id": "VCOVTWwYmx4z",
        "outputId": "1446d1a6-8595-4814-92fb-6dad1c85e61b"
      },
      "source": [
        "struc.header['journal']"
      ],
      "execution_count": 13,
      "outputs": [
        {
          "output_type": "execute_result",
          "data": {
            "application/vnd.google.colaboratory.intrinsic+json": {
              "type": "string"
            },
            "text/plain": [
              "'AUTH   T.W.HAMELRYCK,M.H.DAO-THI,F.POORTMANS,M.J.CHRISPEELS,L.WYNS,AUTH 2 R.LORISTITL   THE CRYSTALLOGRAPHIC STRUCTURE OF PHYTOHEMAGGLUTININ-L.REF    J.BIOL.CHEM.                  V. 271 20479 1996REFN                   ISSN 0021-9258PMID   8702788DOI    10.1074/JBC.271.34.20479'"
            ]
          },
          "metadata": {},
          "execution_count": 13
        }
      ]
    },
    {
      "cell_type": "markdown",
      "metadata": {
        "id": "RueDEKYbm61e"
      },
      "source": [
        "## EJERCICIO 1\n",
        "Crear un objeto structure con el archivo 1kcw.pdb e imprimir el método con el que se creó el modelo y su resolución"
      ]
    },
    {
      "cell_type": "code",
      "metadata": {
        "colab": {
          "base_uri": "https://localhost:8080/"
        },
        "id": "BQKxnkbtm94X",
        "outputId": "d8500238-a6a0-4948-ab46-3f20f925fa4a"
      },
      "source": [
        "from Bio import PDB\n",
        "parser = PDB.PDBParser(QUIET=True)\n",
        "\n",
        "obj_struc = parser.get_structure(\"prot_1kcw\",\"/content/1kcw.pdb\")\n",
        "\n",
        "'''\n",
        "Podremos imprimir todas as llaves y valores del diccionario\n",
        "for key, valor in obj_struc.header.items():\n",
        "  print(key, valor)\n",
        "'''\n",
        "print(obj_struc.header['structure_method'])\n",
        "print(obj_struc.header['resolution'])"
      ],
      "execution_count": 38,
      "outputs": [
        {
          "output_type": "stream",
          "name": "stdout",
          "text": [
            "x-ray diffraction\n",
            "3.0\n"
          ]
        }
      ]
    },
    {
      "cell_type": "markdown",
      "metadata": {
        "id": "yvHDzaaVraIf"
      },
      "source": [
        "## Dentro del structure podemos tener varios modelos\n",
        "\n",
        "Para acceder a los modelos podemos iterar en el objeto structure\n",
        "\n",
        "\n",
        "```\n",
        "for model in struc:\n",
        "  print(model)\n",
        "```\n",
        "O acceder como diccionario\n",
        "```\n",
        "model = struc[0]\n",
        "```\n",
        "Al igual que para el objeto structure, podemos ver el nivel que le sigue utilizando child_dict o child_list\n",
        "```\n",
        "model.child_dict\n",
        "model.child_list\n",
        "```"
      ]
    },
    {
      "cell_type": "markdown",
      "metadata": {
        "id": "7KyJqGtMwgOX"
      },
      "source": [
        "Después de acceder al modelo...\n",
        "\n",
        "## Podemos acceder a distintas cadenas\n",
        "\n",
        "Para acceder a las cadenas podemos iterar en el objeto model\n",
        "\n",
        "\n",
        "```\n",
        "Para Cada cadena en obj_model:\n",
        "  Imprime(cadena)\n",
        "```\n",
        "También podemos acceder como diccionario\n",
        "```\n",
        "cadena = obj_model['A']\n",
        "```\n",
        "o como lista\n",
        "```\n",
        "cadena = obj_model.child_list[0]\n",
        "```"
      ]
    },
    {
      "cell_type": "code",
      "metadata": {
        "colab": {
          "base_uri": "https://localhost:8080/"
        },
        "id": "xe7N3rXuxzJ-",
        "outputId": "afd0bad3-ac2c-4f90-f74f-6cca5df73dcd"
      },
      "source": [
        "### Ingresando a cadenas ###\n",
        "for chain in model:\n",
        "  print(chain)"
      ],
      "execution_count": 34,
      "outputs": [
        {
          "output_type": "stream",
          "name": "stdout",
          "text": [
            "<Chain id=A>\n"
          ]
        }
      ]
    },
    {
      "cell_type": "code",
      "metadata": {
        "id": "tEaaKioPx_H7"
      },
      "source": [
        "chain = model['A']\n",
        "\n",
        "print(chain.child_dict)\n",
        "print(chain.child_list)"
      ],
      "execution_count": null,
      "outputs": []
    },
    {
      "cell_type": "markdown",
      "metadata": {
        "id": "k6qzt6DgzIlP"
      },
      "source": [
        "## Para acceder a las cadenas podemos iterar en el objeto cadena\n",
        "```\n",
        "for residue in chain:\n",
        "  print(residue)\n",
        "```\n",
        "O como una lista con el número de residuo (la lista inicia en 1)\n",
        "```\n",
        "residue = chain[1]\n",
        "```"
      ]
    },
    {
      "cell_type": "markdown",
      "metadata": {
        "id": "5WCFQf-90Vs0"
      },
      "source": [
        "## Ejercicio 2\n",
        "\n",
        "Guardar en una lista todas las cisteínas de la cadena A del archivo 1kcw.pdb"
      ]
    },
    {
      "cell_type": "code",
      "metadata": {
        "colab": {
          "base_uri": "https://localhost:8080/"
        },
        "id": "6YVanUxWzg3S",
        "outputId": "de7342f6-d111-4592-bd01-c32b52ae2e7e"
      },
      "source": [
        "cisteinas = []\n",
        "\n",
        "for modelo in obj_struc:\n",
        "  for chain in modelo:\n",
        "    # Tipo de cadena - .id\n",
        "    if chain.id =='A':\n",
        "      for residuo in chain:\n",
        "        # Aminoácido - .get_resname() \n",
        "        if residuo.get_resname() == 'CYS':\n",
        "          cisteinas.append(residuo)\n",
        "\n",
        "print(len(cisteinas))\n"
      ],
      "execution_count": 44,
      "outputs": [
        {
          "output_type": "stream",
          "name": "stdout",
          "text": [
            "14\n"
          ]
        }
      ]
    }
  ]
}