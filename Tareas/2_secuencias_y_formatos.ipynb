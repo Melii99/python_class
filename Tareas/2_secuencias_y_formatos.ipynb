{
  "nbformat": 4,
  "nbformat_minor": 0,
  "metadata": {
    "colab": {
      "name": "2_scuencias_y_formatos.ipynb",
      "provenance": [],
      "collapsed_sections": [],
      "mount_file_id": "11_CxO4yIQemvR_1q2beGbpmvRhVoj25S",
      "authorship_tag": "ABX9TyPAEsUUPWItoLSi6ao5OJ9o"
    },
    "kernelspec": {
      "name": "python3",
      "display_name": "Python 3"
    },
    "language_info": {
      "name": "python"
    }
  },
  "cells": [
    {
      "cell_type": "markdown",
      "metadata": {
        "id": "qrZn6Y__eP0O"
      },
      "source": [
        "# Tarea Secuencias y Formatos\n",
        "Creen una función llamada resumen que a partir del path de un archivo genbank y una lista de genes imprima:\n",
        "\n",
        "* Organismo\n",
        "* Versión de la secuencia\n",
        "* Fuente del aislado\n",
        "* País\n",
        "\n",
        "Para cada gen en la lista:\n",
        "* Nombre del gen\n",
        "* Los primeros 15 nucleótidos de ADN\n",
        "* Los primeros 15 nucleótidos de ARN\n",
        "* Los primeros 15 aminoácidos de proteína\n",
        "\n",
        "\n",
        "Ejemplo:\n",
        "\n",
        "```\n",
        "> resumen(\"files/clase_2/archivo.gb\", genes=['X','Y'])\n",
        "# Organismo: Hepatitis B virus\n",
        "# Fecha: 15-MAY-2012\n",
        "# País: India\n",
        "# Aislado: 11851\n",
        "# Gen_1: X\n",
        "# ADN: ATGGCTGCTAGGTTG\n",
        "# ARN: AUGGCUGCUAGGUUG\n",
        "# Proteína: MAARL\n",
        "# Gen_2: Y\n",
        "# ADN: ATGGTGCGCGCGGC\n",
        "# ARN: ...\n",
        "# Proteína: ...\n",
        "\n",
        "```"
      ]
    },
    {
      "cell_type": "code",
      "metadata": {
        "id": "RJUby-Pg6SZe"
      },
      "source": [
        "# Resumen es una función que recibe como parámetros un \"path\" a un archivo determiado y una lista de genes\n",
        "def Resumen(path, genes):\n",
        "\n",
        "    #Parseamos el archivo \n",
        "    for gb_record in SeqIO.parse(path, \"genbank\"):\n",
        "\n",
        "        #Se imprime el organismo, fecha, país y aislado\n",
        "        print('Organismo: ', gb_record.annotations['organism'],'\\n')\n",
        "        print('Fecha: ', gb_record.annotations['date'],'\\n')\n",
        "        print('Pais: ', gb_record.features[0].qualifiers['country'],'\\n')\n",
        "        #El archivo 'virus.gb' no contiene numero de aislado (ni en annotations ni en features)\n",
        "        #Por ello se remplazó por la fuente del aislado \n",
        "        print('Aislado: ', gb_record.features[0].qualifiers['isolation_source'],'\\n')\n",
        "\n",
        "        #Con un for recorremos los features (desde la posición 1 y saltando los CDS)\n",
        "        for i in range(1, len(gb_record.features),2):\n",
        "          \n",
        "          #Recorremos la lista de genes a buscar\n",
        "          for gene in genes:\n",
        "\n",
        "            #Si el gen de la lista y el gen del archivo coinciden, la afirmación es verdadera y se imprime\n",
        "            if gb_record.features[i].qualifiers['gene'][0] == gene:\n",
        "\n",
        "              print('Gen: ', gb_record.features[i].qualifiers['gene'])\n",
        "              # se crean la variable a y b para indicar los (primeros) 15 nucleótidos requeridos\n",
        "              a = gb_record.features[i].location.nofuzzy_start\n",
        "              b = a + 15\n",
        "              #Se imprime la secuencia de DNA\n",
        "              print('ADN: ', gb_record.seq[a:b])\n",
        "              #Se imprime la secuencia de RNA\n",
        "              print('ARN: ', gb_record.seq[a:b].transcribe())\n",
        "              #Se imprime la proteína\n",
        "              print('Proteína: ', gb_record.seq[a:b].translate(), '\\n')\n",
        "              "
      ],
      "execution_count": 120,
      "outputs": []
    },
    {
      "cell_type": "code",
      "metadata": {
        "colab": {
          "base_uri": "https://localhost:8080/"
        },
        "id": "vMwCY9ea6aE3",
        "outputId": "3fd24e19-6ea2-43b8-9f50-138cd86a1037"
      },
      "source": [
        "path = \"/content/virus.gb\"\n",
        "genes = ['P', 'G', 'L']\n",
        "Resumen(path, genes)"
      ],
      "execution_count": 121,
      "outputs": [
        {
          "output_type": "stream",
          "name": "stdout",
          "text": [
            "Organismo:  Isfahan virus \n",
            "\n",
            "Fecha:  13-AUG-2018 \n",
            "\n",
            "Pais:  ['Iran:Isfahan province'] \n",
            "\n",
            "Aislado:  ['Phlebotomus papatasi'] \n",
            "\n",
            "Gen:  ['P']\n",
            "ADN:  ATGTCTCGACTCAAC\n",
            "ARN:  AUGUCUCGACUCAAC\n",
            "Proteína:  MSRLN \n",
            "\n",
            "Gen:  ['G']\n",
            "ADN:  ATGACTTCAGTCTTA\n",
            "ARN:  AUGACUUCAGUCUUA\n",
            "Proteína:  MTSVL \n",
            "\n",
            "Gen:  ['L']\n",
            "ADN:  ATGGATGAGTACTCT\n",
            "ARN:  AUGGAUGAGUACUCU\n",
            "Proteína:  MDEYS \n",
            "\n"
          ]
        }
      ]
    }
  ]
}