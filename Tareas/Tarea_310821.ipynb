{
  "nbformat": 4,
  "nbformat_minor": 0,
  "metadata": {
    "colab": {
      "name": "Tarea_310821.ipynb",
      "provenance": [],
      "collapsed_sections": [],
      "authorship_tag": "ABX9TyNMtoqxk6d1MW+8y771zLl3"
    },
    "kernelspec": {
      "name": "python3",
      "display_name": "Python 3"
    },
    "language_info": {
      "name": "python"
    }
  },
  "cells": [
    {
      "cell_type": "markdown",
      "metadata": {
        "id": "OlbuWbCfRJEX"
      },
      "source": [
        "# Tarea\n",
        "1. Creen sus propias clases con métodos y atributos.\n",
        "\n",
        "2. Apliquen herencia, overriding y polimorfismo.\n",
        "\n",
        "3. Explica para qué lo usarías"
      ]
    },
    {
      "cell_type": "code",
      "metadata": {
        "id": "FfVGJgdhSSZy"
      },
      "source": [
        "### Clases con métodos y atributos ###\n",
        "\n",
        "# Creamos una clase llamada alumno que guardará su calificación\n",
        "class Alumnos():\n",
        "  def __init__ (self,nombre,calif):\n",
        "    self.nombre = nombre\n",
        "    self.calif = calif\n",
        "\n",
        "  def aprobado(self): \n",
        "    if(self.calif > 5):\n",
        "      print(\"El alumno aprobó\") #Nos dirá si el alumno aprobó\n",
        "    else:\n",
        "      print(\"El alumno reprobó\")"
      ],
      "execution_count": null,
      "outputs": []
    },
    {
      "cell_type": "code",
      "metadata": {
        "colab": {
          "base_uri": "https://localhost:8080/"
        },
        "id": "jX0QFdREVamO",
        "outputId": "d67ce79f-76e7-4c69-95f9-a06034500745"
      },
      "source": [
        "ana = Alumnos('Ana',8)\n",
        "ana.aprobado()"
      ],
      "execution_count": null,
      "outputs": [
        {
          "output_type": "stream",
          "name": "stdout",
          "text": [
            "El alumno aprobó\n"
          ]
        }
      ]
    },
    {
      "cell_type": "code",
      "metadata": {
        "id": "i0jnzChcXDEA"
      },
      "source": [
        "### Podemos seguir la misma lógica para calificaciones de varias materias\n",
        "class Alumnos_2():\n",
        "  def __init__(self,nombre,calif1,calif2,calif3):\n",
        "    self.nombre = nombre\n",
        "    self.calif1 = calif1\n",
        "    self.calif2 = calif2\n",
        "    self.calif3 =calif3\n",
        "\n",
        "  def promedio(self):\n",
        "    self.promedio = (self.calif1+self.calif2+self.calif3)/3"
      ],
      "execution_count": null,
      "outputs": []
    },
    {
      "cell_type": "code",
      "metadata": {
        "id": "muWivNwUlEQ3"
      },
      "source": [
        "pedro = Alumnos_2('Pedro',10,9,7)"
      ],
      "execution_count": null,
      "outputs": []
    },
    {
      "cell_type": "code",
      "metadata": {
        "colab": {
          "base_uri": "https://localhost:8080/"
        },
        "id": "DcLx2-Wl2PWU",
        "outputId": "48b4123a-74bd-45d0-9c0b-092cd731250d"
      },
      "source": [
        "pedro.promedio()\n",
        "pedro.promedio"
      ],
      "execution_count": null,
      "outputs": [
        {
          "output_type": "execute_result",
          "data": {
            "text/plain": [
              "8.666666666666666"
            ]
          },
          "metadata": {},
          "execution_count": 110
        }
      ]
    },
    {
      "cell_type": "code",
      "metadata": {
        "id": "16suYRFL5rhg"
      },
      "source": [
        "### Podemos hacer una clasificación jerárquica de medios de transporte\n",
        "\n",
        "# Todos son transportes pero la forma en que se trasladadn es distinta\n",
        "class Transporte():\n",
        "  viajar = True\n",
        "  def __init__(self,modelo,color,tamaño,uso):\n",
        "    self.modelo = modelo\n",
        "    self.color = color\n",
        "    self.tamaño = tamaño\n",
        "    self.uso = uso\n",
        "\n",
        "# A partir de la clase transporte creamos otras (herencia)\n",
        "# Podemos cambiar los valores de los atributos (overriding)\n",
        "# y tenemos polimorfismos entre las clases que creamos\n",
        "\n",
        "class Terrestre(Transporte):\n",
        "  terrestre = True  \n",
        "  acuatico = False\n",
        "  aereo = False\n",
        "\n\n",
        "class Acuatico(Transporte):\n",
        "  terrestre = False\n",
        "  acuatico = True\n",
        "  aereo = False\n",
        "\n\n",
        "class Aereo(Transporte):\n",
        "  terrestre = False\n",
        "  acuatico = False\n",
        "  aereo = True"
      ],
      "execution_count": null,
      "outputs": []
    },
    {
      "cell_type": "code",
      "metadata": {
        "colab": {
          "base_uri": "https://localhost:8080/",
          "height": 35
        },
        "id": "H6-7wvkF9rPV",
        "outputId": "57a94b65-85e3-4a9a-f713-443905d4ddc9"
      },
      "source": [
        "avion = Aereo('boeing','blanco','grande','carga')\n",
        "avion.modelo"
      ],
      "execution_count": null,
      "outputs": [
        {
          "output_type": "execute_result",
          "data": {
            "application/vnd.google.colaboratory.intrinsic+json": {
              "type": "string"
            },
            "text/plain": [
              "'boeing'"
            ]
          },
          "metadata": {},
          "execution_count": 126
        }
      ]
    },
    {
      "cell_type": "code",
      "metadata": {
        "colab": {
          "base_uri": "https://localhost:8080/",
          "height": 35
        },
        "id": "pTT_z9i4-uaD",
        "outputId": "eb590c38-d226-4547-9e85-be557fe6e1d1"
      },
      "source": [
        "tren = Terrestre('suburbano','gris','grande','pasajeros')\n",
        "tren.uso"
      ],
      "execution_count": null,
      "outputs": [
        {
          "output_type": "execute_result",
          "data": {
            "application/vnd.google.colaboratory.intrinsic+json": {
              "type": "string"
            },
            "text/plain": [
              "'pasajeros'"
            ]
          },
          "metadata": {},
          "execution_count": 128
        }
      ]
    }
  ]
}
